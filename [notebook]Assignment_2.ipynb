{
  "nbformat": 4,
  "nbformat_minor": 0,
  "metadata": {
    "colab": {
      "name": "Assignment 2",
      "provenance": [],
      "collapsed_sections": []
    },
    "kernelspec": {
      "name": "python3",
      "display_name": "Python 3"
    }
  },
  "cells": [
    {
      "cell_type": "markdown",
      "metadata": {
        "id": "qeS9CUGVmARS",
        "colab_type": "text"
      },
      "source": [
        "All Tasks:\n",
        "ML ASSIGNMENT 2\n",
        "\n",
        "1. Use Dataframe constructor in Pandas to create your own Dataframe. \n",
        "\n",
        "2. Print a chosen record (row) or a chosen column (data field). \n",
        "\n",
        "3. Print rows that satisfy a condition on one of the column entries. For example, if you create a DataFrame of players' performance in a cricket match and each record has the runs scored by the player in a cricket match, then you should be able to the print records of players who scored more than 50 runs. \n",
        "4. Also sort the records based on the number of runs scored by each player. \n",
        "\n",
        "5. Use vectorised operations. For example, you may be required to compute the percentage runs scored by each player, where the percentage is with respect to the total runs scored by the team in an innings. \n",
        "\n",
        "6. Add a new column to the Dataframe. For example, you may want to add the number written on the player's jersey. \n",
        "\n",
        "7. Export the Dataframe to a file in pickle format and save it as a file.  Read the pickle file back to the program. \n",
        "\n",
        "\n",
        "8. Use matplotlib library to make a scatter plot of columns that contain numeric\n",
        "9. data. Provide labels to the axes. \n",
        "\n",
        "\n",
        "10. Implement linear regression to model the dependency between two variables - the predictor x and target y. You can choose any two columns in your data frame as the two variables. Print the coefficients obtained from linear regression and plot the straight line on the scatter plot.  Do not use any inbuilt function for implementing linear regression.  You need to formulate a linear system of equations and solve them using pseudo inverse.  You can compare your result with that produced by the fit() function of LinearRegression model in sklearn. \n"
      ]
    },
    {
      "cell_type": "markdown",
      "metadata": {
        "id": "8Ncy4OmYEVOA",
        "colab_type": "text"
      },
      "source": [
        "## **Task 1**"
      ]
    },
    {
      "cell_type": "code",
      "metadata": {
        "id": "eNPHQaLVhQDk",
        "colab_type": "code",
        "colab": {
          "base_uri": "https://localhost:8080/",
          "height": 419
        },
        "outputId": "32036254-814b-4fac-f321-59653b19f7b7"
      },
      "source": [
        "#Assignment 2 by Sanyam Jain (P20QC001)\n",
        "\n",
        "# Task 1: Use DataFrame constructor in Pandas to create your own Dataframe. \n",
        "# Dataset used - https://raw.githubusercontent.com/mwaskom/seaborn-data/master/tips.csv\n",
        "# import pandas as pd\n",
        "# data = {\n",
        "#     'total_bill':['16.99','10.34','21.01','23.68','24.59'],\n",
        "#     'tip':['1.01','1.66','3.5','3.31','3.61'],\n",
        "#     'sex':['F','M','M','M','M'],\n",
        "#     'smoker':['N','N','N','N','N'],\n",
        "#     'day':['Sunday','Sunday','Sunday','Sunday','Sunday'],\n",
        "#     'time':['Dinner','Dinner','Breakfast','Dinner','Lunch'],\n",
        "#     'table_size':['2','3','3','3','4']\n",
        "\n",
        "# }\n",
        "# df=pd.DataFrame(data)\n",
        "# df\n",
        "\n",
        "\n",
        "import pandas as pd\n",
        "data = {\n",
        "    'total_bill':['16.99','10.34','21.01','23.68','24.59','25.29','8.77','26.88','15.04','14.78','10.27','35.26','15.42','18.43','14.83','21.58','10.33','16.29','16.97','20.65','17.92','20.29','15.77','39.42','19.82','17.81','13.37','12.69','21.7','19.65','9.55','18.35','15.06','20.69','17.78','24.06','16.31','16.93','18.69','31.27','16.04','17.46','13.94','9.68','30.4','18.29','22.23','32.4','28.55','18.04','12.54','10.29','34.81','9.94','25.56','19.49','38.01','26.41','11.24','48.27','20.29','13.81','11.02','18.29','17.59','20.08','16.45','3.07','20.23','15.01','12.02','17.07','26.86','25.28','14.73','10.51','17.92','27.2','22.76','17.29','19.44','16.66','10.07','32.68','15.98','34.83','13.03','18.28','24.71','21.16','28.97','22.49','5.75','16.32','22.75','40.17','27.28','12.03','21.01'],\n",
        "    'tip':['1.01', '1.66', '3.5', '3.31', '3.61', '4.71', '2', '3.12', '1.96', '3.23', '1.71', '5', '1.57', '3', '3.02', '3.92', '1.67', '3.71', '3.5', '3.35', '4.08', '2.75', '2.23', '7.58', '3.18', '2.34', '2', '2', '4.3', '3', '1.45', '2.5', '3', '2.45', '3.27', '3.6', '2', '3.07', '2.31', '5', '2.24', '2.54', '3.06', '1.32', '5.6', '3', '5', '6', '2.05', '3', '2.5', '2.6', '5.2', '1.56', '4.34', '3.51', '3', '1.5', '1.76', '6.73', '3.21', '2', '1.98', '3.76', '2.64', '3.15', '2.47', '1', '2.01', '2.09', '1.97', '3', '3.14', '5', '2.2', '1.25', '3.08', '4', '3', '2.71', '3', '3.4', '1.83', '5', '2.03', '5.17', '2', '4', '5.85', '3', '3', '3.5', '1', '4.3', '3.25', '4.73', '4', '1.5', '3'],\n",
        "    'sex':['F', 'M', 'M', 'M', 'F', 'M', 'M', 'M', 'M', 'M', 'M', 'F', 'M', 'M', 'F', 'M', 'F', 'M', 'F', 'M', 'M', 'F', 'F', 'M', 'M', 'M', 'M', 'M', 'M', 'F', 'M', 'M', 'F', 'F', 'M', 'M', 'M', 'F', 'M', 'M', 'M', 'M', 'M', 'M', 'M', 'M', 'M', 'M', 'M', 'M', 'M', 'F', 'F', 'M', 'M', 'M', 'M', 'F', 'M', 'M', 'M', 'M', 'M', 'M', 'M', 'M', 'F', 'F', 'M', 'M', 'M', 'F', 'F', 'F', 'F', 'M', 'M', 'M', 'M', 'M', 'M', 'M', 'F', 'M', 'M', 'F', 'M', 'M', 'M', 'M', 'M', 'M', 'F', 'F', 'F', 'M', 'M', 'M', 'M'],\n",
        "    'smoker':['N', 'N', 'N', 'N', 'N', 'N', 'N', 'N', 'N', 'N', 'N', 'N', 'N', 'N', 'N', 'N', 'N', 'N', 'N', 'N', 'N', 'N', 'N', 'N', 'N', 'N', 'N', 'N', 'N', 'N', 'N', 'N', 'N', 'N', 'N', 'N', 'N', 'N', 'N', 'N', 'N', 'N', 'N', 'N', 'N', 'N', 'N', 'N', 'N', 'N', 'N', 'N', 'N', 'N', 'N', 'N', 'Y', 'N', 'Y', 'N', 'Y', 'Y', 'Y', 'Y', 'N', 'N', 'N', 'Y', 'N', 'Y', 'N', 'N', 'Y', 'Y', 'N', 'N', 'Y', 'N', 'N', 'N', 'Y', 'N', 'N', 'Y', 'N', 'N', 'N', 'N', 'N', 'N', 'Y', 'N', 'Y', 'Y', 'N', 'Y', 'Y', 'Y', 'Y'],\n",
        "    'day':['Sunday', 'Sunday', 'Sunday', 'Sunday', 'Sunday', 'Sunday', 'Sunday', 'Sunday', 'Sunday', 'Sunday', 'Sunday', 'Sunday', 'Sunday', 'Sunday', 'Sunday', 'Sunday', 'Sunday', 'Sunday', 'Sunday', 'Saturday', 'Saturday', 'Saturday', 'Saturday', 'Saturday', 'Saturday', 'Saturday', 'Saturday', 'Saturday', 'Saturday', 'Saturday', 'Saturday', 'Saturday', 'Saturday', 'Saturday', 'Saturday', 'Saturday', 'Saturday', 'Saturday', 'Saturday', 'Saturday', 'Saturday', 'Sunday', 'Sunday', 'Sunday', 'Sunday', 'Sunday', 'Sunday', 'Sunday', 'Sunday', 'Sunday', 'Sunday', 'Sunday', 'Sunday', 'Sunday', 'Sunday', 'Sunday', 'Saturday', 'Saturday', 'Saturday', 'Saturday', 'Saturday', 'Saturday', 'Saturday', 'Saturday', 'Saturday', 'Saturday', 'Saturday', 'Saturday', 'Saturday', 'Saturday', 'Saturday', 'Saturday', 'Saturday', 'Saturday', 'Saturday', 'Saturday', 'Saturday', 'Thursday', 'Thursday', 'Thursday', 'Thursday', 'Thursday', 'Thursday', 'Thursday', 'Thursday', 'Thursday', 'Thursday', 'Thursday', 'Thursday', 'Thursday', 'Friday', 'Friday', 'Friday', 'Friday', 'Friday', 'Friday', 'Friday', 'Friday', 'Friday'],\n",
        "    'time':['Dinner', 'Dinner', 'Dinner', 'Dinner', 'Dinner', 'Dinner', 'Dinner', 'Dinner', 'Dinner', 'Dinner', 'Dinner', 'Dinner', 'Dinner', 'Dinner', 'Dinner', 'Dinner', 'Dinner', 'Dinner', 'Dinner', 'Dinner', 'Dinner', 'Dinner', 'Dinner', 'Dinner', 'Dinner', 'Dinner', 'Dinner', 'Dinner', 'Dinner', 'Dinner', 'Dinner', 'Dinner', 'Dinner', 'Dinner', 'Dinner', 'Dinner', 'Dinner', 'Dinner', 'Dinner', 'Dinner', 'Dinner', 'Dinner', 'Dinner', 'Dinner', 'Dinner', 'Dinner', 'Dinner', 'Dinner', 'Dinner', 'Dinner', 'Dinner', 'Dinner', 'Dinner', 'Dinner', 'Dinner', 'Dinner', 'Dinner', 'Dinner', 'Dinner', 'Dinner', 'Dinner', 'Dinner', 'Dinner', 'Dinner', 'Dinner', 'Dinner', 'Dinner', 'Dinner', 'Dinner', 'Dinner', 'Dinner', 'Dinner', 'Dinner', 'Dinner', 'Dinner', 'Dinner', 'Dinner', 'Lunch', 'Lunch', 'Lunch', 'Lunch', 'Lunch', 'Lunch', 'Lunch', 'Lunch', 'Lunch', 'Lunch', 'Lunch', 'Lunch', 'Lunch', 'Dinner', 'Dinner', 'Dinner', 'Dinner', 'Dinner', 'Dinner', 'Dinner', 'Dinner', 'Dinner'],\n",
        "    'table_size':['2', '3', '3', '2', '4', '4', '2', '4', '2', '2', '2', '4', '2', '4', '2', '2', '3', '3', '3', '3', '2', '2', '2', '4', '2', '4', '2', '2', '2', '2', '2', '4', '2', '4', '2', '3', '3', '3', '3', '3', '3', '2', '2', '2', '4', '2', '2', '4', '3', '2', '2', '2', '4', '2', '4', '2', '4', '2', '2', '4', '2', '2', '2', '4', '3', '3', '2', '1', '2', '2', '2', '3', '2', '2', '2', '2', '2', '4', '2', '2', '2', '2', '1', '2', '2', '4', '2', '2', '2', '2', '2', '2', '2', '2', '2', '4', '2', '2', '2']\n",
        "\n",
        "}\n",
        "df=pd.DataFrame(data)\n",
        "df"
      ],
      "execution_count": 1,
      "outputs": [
        {
          "output_type": "execute_result",
          "data": {
            "text/html": [
              "<div>\n",
              "<style scoped>\n",
              "    .dataframe tbody tr th:only-of-type {\n",
              "        vertical-align: middle;\n",
              "    }\n",
              "\n",
              "    .dataframe tbody tr th {\n",
              "        vertical-align: top;\n",
              "    }\n",
              "\n",
              "    .dataframe thead th {\n",
              "        text-align: right;\n",
              "    }\n",
              "</style>\n",
              "<table border=\"1\" class=\"dataframe\">\n",
              "  <thead>\n",
              "    <tr style=\"text-align: right;\">\n",
              "      <th></th>\n",
              "      <th>total_bill</th>\n",
              "      <th>tip</th>\n",
              "      <th>sex</th>\n",
              "      <th>smoker</th>\n",
              "      <th>day</th>\n",
              "      <th>time</th>\n",
              "      <th>table_size</th>\n",
              "    </tr>\n",
              "  </thead>\n",
              "  <tbody>\n",
              "    <tr>\n",
              "      <th>0</th>\n",
              "      <td>16.99</td>\n",
              "      <td>1.01</td>\n",
              "      <td>F</td>\n",
              "      <td>N</td>\n",
              "      <td>Sunday</td>\n",
              "      <td>Dinner</td>\n",
              "      <td>2</td>\n",
              "    </tr>\n",
              "    <tr>\n",
              "      <th>1</th>\n",
              "      <td>10.34</td>\n",
              "      <td>1.66</td>\n",
              "      <td>M</td>\n",
              "      <td>N</td>\n",
              "      <td>Sunday</td>\n",
              "      <td>Dinner</td>\n",
              "      <td>3</td>\n",
              "    </tr>\n",
              "    <tr>\n",
              "      <th>2</th>\n",
              "      <td>21.01</td>\n",
              "      <td>3.5</td>\n",
              "      <td>M</td>\n",
              "      <td>N</td>\n",
              "      <td>Sunday</td>\n",
              "      <td>Dinner</td>\n",
              "      <td>3</td>\n",
              "    </tr>\n",
              "    <tr>\n",
              "      <th>3</th>\n",
              "      <td>23.68</td>\n",
              "      <td>3.31</td>\n",
              "      <td>M</td>\n",
              "      <td>N</td>\n",
              "      <td>Sunday</td>\n",
              "      <td>Dinner</td>\n",
              "      <td>2</td>\n",
              "    </tr>\n",
              "    <tr>\n",
              "      <th>4</th>\n",
              "      <td>24.59</td>\n",
              "      <td>3.61</td>\n",
              "      <td>F</td>\n",
              "      <td>N</td>\n",
              "      <td>Sunday</td>\n",
              "      <td>Dinner</td>\n",
              "      <td>4</td>\n",
              "    </tr>\n",
              "    <tr>\n",
              "      <th>...</th>\n",
              "      <td>...</td>\n",
              "      <td>...</td>\n",
              "      <td>...</td>\n",
              "      <td>...</td>\n",
              "      <td>...</td>\n",
              "      <td>...</td>\n",
              "      <td>...</td>\n",
              "    </tr>\n",
              "    <tr>\n",
              "      <th>94</th>\n",
              "      <td>22.75</td>\n",
              "      <td>3.25</td>\n",
              "      <td>F</td>\n",
              "      <td>N</td>\n",
              "      <td>Friday</td>\n",
              "      <td>Dinner</td>\n",
              "      <td>2</td>\n",
              "    </tr>\n",
              "    <tr>\n",
              "      <th>95</th>\n",
              "      <td>40.17</td>\n",
              "      <td>4.73</td>\n",
              "      <td>M</td>\n",
              "      <td>Y</td>\n",
              "      <td>Friday</td>\n",
              "      <td>Dinner</td>\n",
              "      <td>4</td>\n",
              "    </tr>\n",
              "    <tr>\n",
              "      <th>96</th>\n",
              "      <td>27.28</td>\n",
              "      <td>4</td>\n",
              "      <td>M</td>\n",
              "      <td>Y</td>\n",
              "      <td>Friday</td>\n",
              "      <td>Dinner</td>\n",
              "      <td>2</td>\n",
              "    </tr>\n",
              "    <tr>\n",
              "      <th>97</th>\n",
              "      <td>12.03</td>\n",
              "      <td>1.5</td>\n",
              "      <td>M</td>\n",
              "      <td>Y</td>\n",
              "      <td>Friday</td>\n",
              "      <td>Dinner</td>\n",
              "      <td>2</td>\n",
              "    </tr>\n",
              "    <tr>\n",
              "      <th>98</th>\n",
              "      <td>21.01</td>\n",
              "      <td>3</td>\n",
              "      <td>M</td>\n",
              "      <td>Y</td>\n",
              "      <td>Friday</td>\n",
              "      <td>Dinner</td>\n",
              "      <td>2</td>\n",
              "    </tr>\n",
              "  </tbody>\n",
              "</table>\n",
              "<p>99 rows × 7 columns</p>\n",
              "</div>"
            ],
            "text/plain": [
              "   total_bill   tip sex smoker     day    time table_size\n",
              "0       16.99  1.01   F      N  Sunday  Dinner          2\n",
              "1       10.34  1.66   M      N  Sunday  Dinner          3\n",
              "2       21.01   3.5   M      N  Sunday  Dinner          3\n",
              "3       23.68  3.31   M      N  Sunday  Dinner          2\n",
              "4       24.59  3.61   F      N  Sunday  Dinner          4\n",
              "..        ...   ...  ..    ...     ...     ...        ...\n",
              "94      22.75  3.25   F      N  Friday  Dinner          2\n",
              "95      40.17  4.73   M      Y  Friday  Dinner          4\n",
              "96      27.28     4   M      Y  Friday  Dinner          2\n",
              "97      12.03   1.5   M      Y  Friday  Dinner          2\n",
              "98      21.01     3   M      Y  Friday  Dinner          2\n",
              "\n",
              "[99 rows x 7 columns]"
            ]
          },
          "metadata": {
            "tags": []
          },
          "execution_count": 1
        }
      ]
    },
    {
      "cell_type": "markdown",
      "metadata": {
        "id": "rUKTIHmbEbGl",
        "colab_type": "text"
      },
      "source": [
        "## **Task 2**"
      ]
    },
    {
      "cell_type": "code",
      "metadata": {
        "id": "b71L9fyGhwfI",
        "colab_type": "code",
        "colab": {
          "base_uri": "https://localhost:8080/",
          "height": 187
        },
        "outputId": "713536fb-06d6-4dd5-87b7-592e2b437ff9"
      },
      "source": [
        "# Task 2: Print a chosen record (row) or a chosen column (data field). \n",
        "# Printing Chosen Record\n",
        "print (\"Please enter your row number, we have total 5 rows from 0 to 4\")\n",
        "chosen_record = input()\n",
        "print (df.loc[int(str(chosen_record))])"
      ],
      "execution_count": 2,
      "outputs": [
        {
          "output_type": "stream",
          "text": [
            "Please enter your row number, we have total 5 rows from 0 to 4\n",
            "23\n",
            "total_bill       39.42\n",
            "tip               7.58\n",
            "sex                  M\n",
            "smoker               N\n",
            "day           Saturday\n",
            "time            Dinner\n",
            "table_size           4\n",
            "Name: 23, dtype: object\n"
          ],
          "name": "stdout"
        }
      ]
    },
    {
      "cell_type": "code",
      "metadata": {
        "id": "2gcKGf9L-feU",
        "colab_type": "code",
        "colab": {
          "base_uri": "https://localhost:8080/",
          "height": 255
        },
        "outputId": "54b8ca17-f5ac-4e3a-b7fb-e5ed11051e24"
      },
      "source": [
        "# Task 2: Print a chosen record (row) or a chosen column (data field).\n",
        "# Printing Chosen Column\n",
        "print (\"Please enter which column you want to print, total_bill, tip, sex, smoker, day, time table_size?\")\n",
        "chosen_column = input()\n",
        "print (df[(str(chosen_column))])"
      ],
      "execution_count": 3,
      "outputs": [
        {
          "output_type": "stream",
          "text": [
            "Please enter which column you want to print, total_bill, tip, sex, smoker, day, time table_size?\n",
            "total_bill\n",
            "0     16.99\n",
            "1     10.34\n",
            "2     21.01\n",
            "3     23.68\n",
            "4     24.59\n",
            "      ...  \n",
            "94    22.75\n",
            "95    40.17\n",
            "96    27.28\n",
            "97    12.03\n",
            "98    21.01\n",
            "Name: total_bill, Length: 99, dtype: object\n"
          ],
          "name": "stdout"
        }
      ]
    },
    {
      "cell_type": "code",
      "metadata": {
        "id": "OaF4gt9FBD7z",
        "colab_type": "code",
        "colab": {}
      },
      "source": [
        "# For Task 2,  We can always print the columns and rows directly using the dataframe object applying different methods like:\n",
        "\n",
        "# 1. Slicing\n",
        "# 2. iloc (used in printing record)\n"
      ],
      "execution_count": 4,
      "outputs": []
    },
    {
      "cell_type": "code",
      "metadata": {
        "id": "3y3aaAD8Brdy",
        "colab_type": "code",
        "colab": {
          "base_uri": "https://localhost:8080/",
          "height": 80
        },
        "outputId": "9865bbbb-f58b-4ca6-8542-85648569b323"
      },
      "source": [
        "# Task 2.1: Slicing\n",
        "df[1:2] # Prints row with index 1 (returns DataFrame)"
      ],
      "execution_count": 5,
      "outputs": [
        {
          "output_type": "execute_result",
          "data": {
            "text/html": [
              "<div>\n",
              "<style scoped>\n",
              "    .dataframe tbody tr th:only-of-type {\n",
              "        vertical-align: middle;\n",
              "    }\n",
              "\n",
              "    .dataframe tbody tr th {\n",
              "        vertical-align: top;\n",
              "    }\n",
              "\n",
              "    .dataframe thead th {\n",
              "        text-align: right;\n",
              "    }\n",
              "</style>\n",
              "<table border=\"1\" class=\"dataframe\">\n",
              "  <thead>\n",
              "    <tr style=\"text-align: right;\">\n",
              "      <th></th>\n",
              "      <th>total_bill</th>\n",
              "      <th>tip</th>\n",
              "      <th>sex</th>\n",
              "      <th>smoker</th>\n",
              "      <th>day</th>\n",
              "      <th>time</th>\n",
              "      <th>table_size</th>\n",
              "    </tr>\n",
              "  </thead>\n",
              "  <tbody>\n",
              "    <tr>\n",
              "      <th>1</th>\n",
              "      <td>10.34</td>\n",
              "      <td>1.66</td>\n",
              "      <td>M</td>\n",
              "      <td>N</td>\n",
              "      <td>Sunday</td>\n",
              "      <td>Dinner</td>\n",
              "      <td>3</td>\n",
              "    </tr>\n",
              "  </tbody>\n",
              "</table>\n",
              "</div>"
            ],
            "text/plain": [
              "  total_bill   tip sex smoker     day    time table_size\n",
              "1      10.34  1.66   M      N  Sunday  Dinner          3"
            ]
          },
          "metadata": {
            "tags": []
          },
          "execution_count": 5
        }
      ]
    },
    {
      "cell_type": "code",
      "metadata": {
        "id": "Q9ssTBQBCw7F",
        "colab_type": "code",
        "colab": {
          "base_uri": "https://localhost:8080/",
          "height": 153
        },
        "outputId": "b5baeb8b-b84c-46e8-a1b2-76c08051eaab"
      },
      "source": [
        "# Task 2.2: iloc (using Labels)\n",
        "df.iloc[1] # returns pandas series"
      ],
      "execution_count": 6,
      "outputs": [
        {
          "output_type": "execute_result",
          "data": {
            "text/plain": [
              "total_bill     10.34\n",
              "tip             1.66\n",
              "sex                M\n",
              "smoker             N\n",
              "day           Sunday\n",
              "time          Dinner\n",
              "table_size         3\n",
              "Name: 1, dtype: object"
            ]
          },
          "metadata": {
            "tags": []
          },
          "execution_count": 6
        }
      ]
    },
    {
      "cell_type": "markdown",
      "metadata": {
        "id": "nHrPiJdnEkUv",
        "colab_type": "text"
      },
      "source": [
        "## **Task 3**"
      ]
    },
    {
      "cell_type": "code",
      "metadata": {
        "id": "M_sLpFBmDdsv",
        "colab_type": "code",
        "colab": {}
      },
      "source": [
        "# Task 3: Print rows that satisfy a condition on one of the column entries. \n",
        "# For task 3 we will print following\n",
        "# 1. Total tip collected in time=='Dinner'\n",
        "# 2. Maximum tip with maximum table size"
      ],
      "execution_count": 7,
      "outputs": []
    },
    {
      "cell_type": "code",
      "metadata": {
        "id": "Q4vWw1d4Foa_",
        "colab_type": "code",
        "colab": {
          "base_uri": "https://localhost:8080/",
          "height": 419
        },
        "outputId": "d5b0bb69-bd7f-4c00-ec1c-e7a6aea2f914"
      },
      "source": [
        "df"
      ],
      "execution_count": 8,
      "outputs": [
        {
          "output_type": "execute_result",
          "data": {
            "text/html": [
              "<div>\n",
              "<style scoped>\n",
              "    .dataframe tbody tr th:only-of-type {\n",
              "        vertical-align: middle;\n",
              "    }\n",
              "\n",
              "    .dataframe tbody tr th {\n",
              "        vertical-align: top;\n",
              "    }\n",
              "\n",
              "    .dataframe thead th {\n",
              "        text-align: right;\n",
              "    }\n",
              "</style>\n",
              "<table border=\"1\" class=\"dataframe\">\n",
              "  <thead>\n",
              "    <tr style=\"text-align: right;\">\n",
              "      <th></th>\n",
              "      <th>total_bill</th>\n",
              "      <th>tip</th>\n",
              "      <th>sex</th>\n",
              "      <th>smoker</th>\n",
              "      <th>day</th>\n",
              "      <th>time</th>\n",
              "      <th>table_size</th>\n",
              "    </tr>\n",
              "  </thead>\n",
              "  <tbody>\n",
              "    <tr>\n",
              "      <th>0</th>\n",
              "      <td>16.99</td>\n",
              "      <td>1.01</td>\n",
              "      <td>F</td>\n",
              "      <td>N</td>\n",
              "      <td>Sunday</td>\n",
              "      <td>Dinner</td>\n",
              "      <td>2</td>\n",
              "    </tr>\n",
              "    <tr>\n",
              "      <th>1</th>\n",
              "      <td>10.34</td>\n",
              "      <td>1.66</td>\n",
              "      <td>M</td>\n",
              "      <td>N</td>\n",
              "      <td>Sunday</td>\n",
              "      <td>Dinner</td>\n",
              "      <td>3</td>\n",
              "    </tr>\n",
              "    <tr>\n",
              "      <th>2</th>\n",
              "      <td>21.01</td>\n",
              "      <td>3.5</td>\n",
              "      <td>M</td>\n",
              "      <td>N</td>\n",
              "      <td>Sunday</td>\n",
              "      <td>Dinner</td>\n",
              "      <td>3</td>\n",
              "    </tr>\n",
              "    <tr>\n",
              "      <th>3</th>\n",
              "      <td>23.68</td>\n",
              "      <td>3.31</td>\n",
              "      <td>M</td>\n",
              "      <td>N</td>\n",
              "      <td>Sunday</td>\n",
              "      <td>Dinner</td>\n",
              "      <td>2</td>\n",
              "    </tr>\n",
              "    <tr>\n",
              "      <th>4</th>\n",
              "      <td>24.59</td>\n",
              "      <td>3.61</td>\n",
              "      <td>F</td>\n",
              "      <td>N</td>\n",
              "      <td>Sunday</td>\n",
              "      <td>Dinner</td>\n",
              "      <td>4</td>\n",
              "    </tr>\n",
              "    <tr>\n",
              "      <th>...</th>\n",
              "      <td>...</td>\n",
              "      <td>...</td>\n",
              "      <td>...</td>\n",
              "      <td>...</td>\n",
              "      <td>...</td>\n",
              "      <td>...</td>\n",
              "      <td>...</td>\n",
              "    </tr>\n",
              "    <tr>\n",
              "      <th>94</th>\n",
              "      <td>22.75</td>\n",
              "      <td>3.25</td>\n",
              "      <td>F</td>\n",
              "      <td>N</td>\n",
              "      <td>Friday</td>\n",
              "      <td>Dinner</td>\n",
              "      <td>2</td>\n",
              "    </tr>\n",
              "    <tr>\n",
              "      <th>95</th>\n",
              "      <td>40.17</td>\n",
              "      <td>4.73</td>\n",
              "      <td>M</td>\n",
              "      <td>Y</td>\n",
              "      <td>Friday</td>\n",
              "      <td>Dinner</td>\n",
              "      <td>4</td>\n",
              "    </tr>\n",
              "    <tr>\n",
              "      <th>96</th>\n",
              "      <td>27.28</td>\n",
              "      <td>4</td>\n",
              "      <td>M</td>\n",
              "      <td>Y</td>\n",
              "      <td>Friday</td>\n",
              "      <td>Dinner</td>\n",
              "      <td>2</td>\n",
              "    </tr>\n",
              "    <tr>\n",
              "      <th>97</th>\n",
              "      <td>12.03</td>\n",
              "      <td>1.5</td>\n",
              "      <td>M</td>\n",
              "      <td>Y</td>\n",
              "      <td>Friday</td>\n",
              "      <td>Dinner</td>\n",
              "      <td>2</td>\n",
              "    </tr>\n",
              "    <tr>\n",
              "      <th>98</th>\n",
              "      <td>21.01</td>\n",
              "      <td>3</td>\n",
              "      <td>M</td>\n",
              "      <td>Y</td>\n",
              "      <td>Friday</td>\n",
              "      <td>Dinner</td>\n",
              "      <td>2</td>\n",
              "    </tr>\n",
              "  </tbody>\n",
              "</table>\n",
              "<p>99 rows × 7 columns</p>\n",
              "</div>"
            ],
            "text/plain": [
              "   total_bill   tip sex smoker     day    time table_size\n",
              "0       16.99  1.01   F      N  Sunday  Dinner          2\n",
              "1       10.34  1.66   M      N  Sunday  Dinner          3\n",
              "2       21.01   3.5   M      N  Sunday  Dinner          3\n",
              "3       23.68  3.31   M      N  Sunday  Dinner          2\n",
              "4       24.59  3.61   F      N  Sunday  Dinner          4\n",
              "..        ...   ...  ..    ...     ...     ...        ...\n",
              "94      22.75  3.25   F      N  Friday  Dinner          2\n",
              "95      40.17  4.73   M      Y  Friday  Dinner          4\n",
              "96      27.28     4   M      Y  Friday  Dinner          2\n",
              "97      12.03   1.5   M      Y  Friday  Dinner          2\n",
              "98      21.01     3   M      Y  Friday  Dinner          2\n",
              "\n",
              "[99 rows x 7 columns]"
            ]
          },
          "metadata": {
            "tags": []
          },
          "execution_count": 8
        }
      ]
    },
    {
      "cell_type": "code",
      "metadata": {
        "id": "1HNJEXhfFxWk",
        "colab_type": "code",
        "colab": {
          "base_uri": "https://localhost:8080/",
          "height": 71
        },
        "outputId": "b7160a90-2566-4c0a-c023-e30a63c06e35"
      },
      "source": [
        "# Task 3.1: Total tip collected in time=='Dinner'\n",
        "# First find the records where time==Dinner and column==tip and then convert to list of integers\n",
        "\n",
        "collected_tip = (df.tip[(df['time']=='Dinner')]).to_list()\n",
        "collected_tip # This will print  ['1.01', '1.66', '3.31'] which is string hence need to convert\n",
        "new_tips=collected_tip # storing previous list to a temporary list called new_tips (fruitful when the list is unknown size)\n",
        "for i in range(0,len(collected_tip)):\n",
        "  new_tips[i]=float(collected_tip[i])\n",
        "print (new_tips)\n",
        "print(\"Sum is: \"+ str(sum(new_tips)))"
      ],
      "execution_count": 9,
      "outputs": [
        {
          "output_type": "stream",
          "text": [
            "[1.01, 1.66, 3.5, 3.31, 3.61, 4.71, 2.0, 3.12, 1.96, 3.23, 1.71, 5.0, 1.57, 3.0, 3.02, 3.92, 1.67, 3.71, 3.5, 3.35, 4.08, 2.75, 2.23, 7.58, 3.18, 2.34, 2.0, 2.0, 4.3, 3.0, 1.45, 2.5, 3.0, 2.45, 3.27, 3.6, 2.0, 3.07, 2.31, 5.0, 2.24, 2.54, 3.06, 1.32, 5.6, 3.0, 5.0, 6.0, 2.05, 3.0, 2.5, 2.6, 5.2, 1.56, 4.34, 3.51, 3.0, 1.5, 1.76, 6.73, 3.21, 2.0, 1.98, 3.76, 2.64, 3.15, 2.47, 1.0, 2.01, 2.09, 1.97, 3.0, 3.14, 5.0, 2.2, 1.25, 3.08, 3.0, 3.5, 1.0, 4.3, 3.25, 4.73, 4.0, 1.5, 3.0]\n",
            "Sum is: 259.40999999999997\n"
          ],
          "name": "stdout"
        }
      ]
    },
    {
      "cell_type": "code",
      "metadata": {
        "id": "1YWr2CiJLz5Q",
        "colab_type": "code",
        "colab": {
          "base_uri": "https://localhost:8080/",
          "height": 357
        },
        "outputId": "4ae6f063-0a61-409f-e63d-6b5609423022"
      },
      "source": [
        "# Task 3.2: tip with maximum table size\n",
        "df['table_size'].max() # max() function returns the maximum value among the column of a dataframe.\n",
        "\n",
        "tip_max = df.tip[df['table_size']==df['table_size'].max()] # Satisfies the condition of maximum table size in column entries\n",
        "print (tip_max)"
      ],
      "execution_count": 10,
      "outputs": [
        {
          "output_type": "stream",
          "text": [
            "4     3.61\n",
            "5     4.71\n",
            "7     3.12\n",
            "11       5\n",
            "13       3\n",
            "23    7.58\n",
            "25    2.34\n",
            "31     2.5\n",
            "33    2.45\n",
            "44     5.6\n",
            "47       6\n",
            "52     5.2\n",
            "54    4.34\n",
            "56       3\n",
            "59    6.73\n",
            "63    3.76\n",
            "77       4\n",
            "85    5.17\n",
            "95    4.73\n",
            "Name: tip, dtype: object\n"
          ],
          "name": "stdout"
        }
      ]
    },
    {
      "cell_type": "markdown",
      "metadata": {
        "id": "QWXo2VQmQ53b",
        "colab_type": "text"
      },
      "source": [
        "## **Task 4**"
      ]
    },
    {
      "cell_type": "code",
      "metadata": {
        "id": "GQGC6giVPo_g",
        "colab_type": "code",
        "colab": {
          "base_uri": "https://localhost:8080/",
          "height": 419
        },
        "outputId": "3123dcbd-78d8-4ba5-f4e9-f929a7566cc0"
      },
      "source": [
        "# Task 4: Also sort the records based on the total bill paid by the customer\n",
        "\n",
        "# 1. Sort with function\n",
        "# 2. Sort without function\n",
        "df"
      ],
      "execution_count": 12,
      "outputs": [
        {
          "output_type": "execute_result",
          "data": {
            "text/html": [
              "<div>\n",
              "<style scoped>\n",
              "    .dataframe tbody tr th:only-of-type {\n",
              "        vertical-align: middle;\n",
              "    }\n",
              "\n",
              "    .dataframe tbody tr th {\n",
              "        vertical-align: top;\n",
              "    }\n",
              "\n",
              "    .dataframe thead th {\n",
              "        text-align: right;\n",
              "    }\n",
              "</style>\n",
              "<table border=\"1\" class=\"dataframe\">\n",
              "  <thead>\n",
              "    <tr style=\"text-align: right;\">\n",
              "      <th></th>\n",
              "      <th>total_bill</th>\n",
              "      <th>tip</th>\n",
              "      <th>sex</th>\n",
              "      <th>smoker</th>\n",
              "      <th>day</th>\n",
              "      <th>time</th>\n",
              "      <th>table_size</th>\n",
              "    </tr>\n",
              "  </thead>\n",
              "  <tbody>\n",
              "    <tr>\n",
              "      <th>0</th>\n",
              "      <td>16.99</td>\n",
              "      <td>1.01</td>\n",
              "      <td>F</td>\n",
              "      <td>N</td>\n",
              "      <td>Sunday</td>\n",
              "      <td>Dinner</td>\n",
              "      <td>2</td>\n",
              "    </tr>\n",
              "    <tr>\n",
              "      <th>1</th>\n",
              "      <td>10.34</td>\n",
              "      <td>1.66</td>\n",
              "      <td>M</td>\n",
              "      <td>N</td>\n",
              "      <td>Sunday</td>\n",
              "      <td>Dinner</td>\n",
              "      <td>3</td>\n",
              "    </tr>\n",
              "    <tr>\n",
              "      <th>2</th>\n",
              "      <td>21.01</td>\n",
              "      <td>3.5</td>\n",
              "      <td>M</td>\n",
              "      <td>N</td>\n",
              "      <td>Sunday</td>\n",
              "      <td>Dinner</td>\n",
              "      <td>3</td>\n",
              "    </tr>\n",
              "    <tr>\n",
              "      <th>3</th>\n",
              "      <td>23.68</td>\n",
              "      <td>3.31</td>\n",
              "      <td>M</td>\n",
              "      <td>N</td>\n",
              "      <td>Sunday</td>\n",
              "      <td>Dinner</td>\n",
              "      <td>2</td>\n",
              "    </tr>\n",
              "    <tr>\n",
              "      <th>4</th>\n",
              "      <td>24.59</td>\n",
              "      <td>3.61</td>\n",
              "      <td>F</td>\n",
              "      <td>N</td>\n",
              "      <td>Sunday</td>\n",
              "      <td>Dinner</td>\n",
              "      <td>4</td>\n",
              "    </tr>\n",
              "    <tr>\n",
              "      <th>...</th>\n",
              "      <td>...</td>\n",
              "      <td>...</td>\n",
              "      <td>...</td>\n",
              "      <td>...</td>\n",
              "      <td>...</td>\n",
              "      <td>...</td>\n",
              "      <td>...</td>\n",
              "    </tr>\n",
              "    <tr>\n",
              "      <th>94</th>\n",
              "      <td>22.75</td>\n",
              "      <td>3.25</td>\n",
              "      <td>F</td>\n",
              "      <td>N</td>\n",
              "      <td>Friday</td>\n",
              "      <td>Dinner</td>\n",
              "      <td>2</td>\n",
              "    </tr>\n",
              "    <tr>\n",
              "      <th>95</th>\n",
              "      <td>40.17</td>\n",
              "      <td>4.73</td>\n",
              "      <td>M</td>\n",
              "      <td>Y</td>\n",
              "      <td>Friday</td>\n",
              "      <td>Dinner</td>\n",
              "      <td>4</td>\n",
              "    </tr>\n",
              "    <tr>\n",
              "      <th>96</th>\n",
              "      <td>27.28</td>\n",
              "      <td>4</td>\n",
              "      <td>M</td>\n",
              "      <td>Y</td>\n",
              "      <td>Friday</td>\n",
              "      <td>Dinner</td>\n",
              "      <td>2</td>\n",
              "    </tr>\n",
              "    <tr>\n",
              "      <th>97</th>\n",
              "      <td>12.03</td>\n",
              "      <td>1.5</td>\n",
              "      <td>M</td>\n",
              "      <td>Y</td>\n",
              "      <td>Friday</td>\n",
              "      <td>Dinner</td>\n",
              "      <td>2</td>\n",
              "    </tr>\n",
              "    <tr>\n",
              "      <th>98</th>\n",
              "      <td>21.01</td>\n",
              "      <td>3</td>\n",
              "      <td>M</td>\n",
              "      <td>Y</td>\n",
              "      <td>Friday</td>\n",
              "      <td>Dinner</td>\n",
              "      <td>2</td>\n",
              "    </tr>\n",
              "  </tbody>\n",
              "</table>\n",
              "<p>99 rows × 7 columns</p>\n",
              "</div>"
            ],
            "text/plain": [
              "   total_bill   tip sex smoker     day    time table_size\n",
              "0       16.99  1.01   F      N  Sunday  Dinner          2\n",
              "1       10.34  1.66   M      N  Sunday  Dinner          3\n",
              "2       21.01   3.5   M      N  Sunday  Dinner          3\n",
              "3       23.68  3.31   M      N  Sunday  Dinner          2\n",
              "4       24.59  3.61   F      N  Sunday  Dinner          4\n",
              "..        ...   ...  ..    ...     ...     ...        ...\n",
              "94      22.75  3.25   F      N  Friday  Dinner          2\n",
              "95      40.17  4.73   M      Y  Friday  Dinner          4\n",
              "96      27.28     4   M      Y  Friday  Dinner          2\n",
              "97      12.03   1.5   M      Y  Friday  Dinner          2\n",
              "98      21.01     3   M      Y  Friday  Dinner          2\n",
              "\n",
              "[99 rows x 7 columns]"
            ]
          },
          "metadata": {
            "tags": []
          },
          "execution_count": 12
        }
      ]
    },
    {
      "cell_type": "code",
      "metadata": {
        "id": "6cZT9Qc2RhR4",
        "colab_type": "code",
        "colab": {
          "base_uri": "https://localhost:8080/",
          "height": 419
        },
        "outputId": "07f8726e-b481-4205-caaf-cb679ac95eed"
      },
      "source": [
        "# Task 4.1: with function\n",
        "df.sort_values(by='total_bill')"
      ],
      "execution_count": 13,
      "outputs": [
        {
          "output_type": "execute_result",
          "data": {
            "text/html": [
              "<div>\n",
              "<style scoped>\n",
              "    .dataframe tbody tr th:only-of-type {\n",
              "        vertical-align: middle;\n",
              "    }\n",
              "\n",
              "    .dataframe tbody tr th {\n",
              "        vertical-align: top;\n",
              "    }\n",
              "\n",
              "    .dataframe thead th {\n",
              "        text-align: right;\n",
              "    }\n",
              "</style>\n",
              "<table border=\"1\" class=\"dataframe\">\n",
              "  <thead>\n",
              "    <tr style=\"text-align: right;\">\n",
              "      <th></th>\n",
              "      <th>total_bill</th>\n",
              "      <th>tip</th>\n",
              "      <th>sex</th>\n",
              "      <th>smoker</th>\n",
              "      <th>day</th>\n",
              "      <th>time</th>\n",
              "      <th>table_size</th>\n",
              "    </tr>\n",
              "  </thead>\n",
              "  <tbody>\n",
              "    <tr>\n",
              "      <th>82</th>\n",
              "      <td>10.07</td>\n",
              "      <td>1.83</td>\n",
              "      <td>F</td>\n",
              "      <td>N</td>\n",
              "      <td>Thursday</td>\n",
              "      <td>Lunch</td>\n",
              "      <td>1</td>\n",
              "    </tr>\n",
              "    <tr>\n",
              "      <th>10</th>\n",
              "      <td>10.27</td>\n",
              "      <td>1.71</td>\n",
              "      <td>M</td>\n",
              "      <td>N</td>\n",
              "      <td>Sunday</td>\n",
              "      <td>Dinner</td>\n",
              "      <td>2</td>\n",
              "    </tr>\n",
              "    <tr>\n",
              "      <th>51</th>\n",
              "      <td>10.29</td>\n",
              "      <td>2.6</td>\n",
              "      <td>F</td>\n",
              "      <td>N</td>\n",
              "      <td>Sunday</td>\n",
              "      <td>Dinner</td>\n",
              "      <td>2</td>\n",
              "    </tr>\n",
              "    <tr>\n",
              "      <th>16</th>\n",
              "      <td>10.33</td>\n",
              "      <td>1.67</td>\n",
              "      <td>F</td>\n",
              "      <td>N</td>\n",
              "      <td>Sunday</td>\n",
              "      <td>Dinner</td>\n",
              "      <td>3</td>\n",
              "    </tr>\n",
              "    <tr>\n",
              "      <th>1</th>\n",
              "      <td>10.34</td>\n",
              "      <td>1.66</td>\n",
              "      <td>M</td>\n",
              "      <td>N</td>\n",
              "      <td>Sunday</td>\n",
              "      <td>Dinner</td>\n",
              "      <td>3</td>\n",
              "    </tr>\n",
              "    <tr>\n",
              "      <th>...</th>\n",
              "      <td>...</td>\n",
              "      <td>...</td>\n",
              "      <td>...</td>\n",
              "      <td>...</td>\n",
              "      <td>...</td>\n",
              "      <td>...</td>\n",
              "      <td>...</td>\n",
              "    </tr>\n",
              "    <tr>\n",
              "      <th>92</th>\n",
              "      <td>5.75</td>\n",
              "      <td>1</td>\n",
              "      <td>F</td>\n",
              "      <td>Y</td>\n",
              "      <td>Friday</td>\n",
              "      <td>Dinner</td>\n",
              "      <td>2</td>\n",
              "    </tr>\n",
              "    <tr>\n",
              "      <th>6</th>\n",
              "      <td>8.77</td>\n",
              "      <td>2</td>\n",
              "      <td>M</td>\n",
              "      <td>N</td>\n",
              "      <td>Sunday</td>\n",
              "      <td>Dinner</td>\n",
              "      <td>2</td>\n",
              "    </tr>\n",
              "    <tr>\n",
              "      <th>30</th>\n",
              "      <td>9.55</td>\n",
              "      <td>1.45</td>\n",
              "      <td>M</td>\n",
              "      <td>N</td>\n",
              "      <td>Saturday</td>\n",
              "      <td>Dinner</td>\n",
              "      <td>2</td>\n",
              "    </tr>\n",
              "    <tr>\n",
              "      <th>43</th>\n",
              "      <td>9.68</td>\n",
              "      <td>1.32</td>\n",
              "      <td>M</td>\n",
              "      <td>N</td>\n",
              "      <td>Sunday</td>\n",
              "      <td>Dinner</td>\n",
              "      <td>2</td>\n",
              "    </tr>\n",
              "    <tr>\n",
              "      <th>53</th>\n",
              "      <td>9.94</td>\n",
              "      <td>1.56</td>\n",
              "      <td>M</td>\n",
              "      <td>N</td>\n",
              "      <td>Sunday</td>\n",
              "      <td>Dinner</td>\n",
              "      <td>2</td>\n",
              "    </tr>\n",
              "  </tbody>\n",
              "</table>\n",
              "<p>99 rows × 7 columns</p>\n",
              "</div>"
            ],
            "text/plain": [
              "   total_bill   tip sex smoker       day    time table_size\n",
              "82      10.07  1.83   F      N  Thursday   Lunch          1\n",
              "10      10.27  1.71   M      N    Sunday  Dinner          2\n",
              "51      10.29   2.6   F      N    Sunday  Dinner          2\n",
              "16      10.33  1.67   F      N    Sunday  Dinner          3\n",
              "1       10.34  1.66   M      N    Sunday  Dinner          3\n",
              "..        ...   ...  ..    ...       ...     ...        ...\n",
              "92       5.75     1   F      Y    Friday  Dinner          2\n",
              "6        8.77     2   M      N    Sunday  Dinner          2\n",
              "30       9.55  1.45   M      N  Saturday  Dinner          2\n",
              "43       9.68  1.32   M      N    Sunday  Dinner          2\n",
              "53       9.94  1.56   M      N    Sunday  Dinner          2\n",
              "\n",
              "[99 rows x 7 columns]"
            ]
          },
          "metadata": {
            "tags": []
          },
          "execution_count": 13
        }
      ]
    },
    {
      "cell_type": "code",
      "metadata": {
        "id": "yKLH9dg-SRlI",
        "colab_type": "code",
        "colab": {}
      },
      "source": [
        "# Task 4.2: without function \n",
        "# Aprroach will be like:\n",
        "# 1. Fetch the column by which you want to sort the DataFrame\n",
        "# 2. Sort the column\n",
        "# 3. Fetch associated rows with each value of the column from DataFrame"
      ],
      "execution_count": 14,
      "outputs": []
    },
    {
      "cell_type": "code",
      "metadata": {
        "id": "HKo_Az2KTTGL",
        "colab_type": "code",
        "colab": {}
      },
      "source": [
        "# 4.2.1:\n",
        "handler_column = df['total_bill']\n",
        "temp_handler = handler_column\n",
        "for eachitem in range (0, len(handler_column)):\n",
        "  temp_handler[eachitem] = float(handler_column[eachitem])\n",
        "  # print (handler_column[eachitem])\n",
        "\n",
        "final_list = temp_handler.to_list()\n",
        "# Apply sorting algorithm to the list/array now\n",
        "final_list"
      ],
      "execution_count": null,
      "outputs": []
    },
    {
      "cell_type": "code",
      "metadata": {
        "id": "-8V_myLbYGdI",
        "colab_type": "code",
        "colab": {}
      },
      "source": [
        "# 4.2.2: Using Bubble sort \n",
        "\n",
        "preserver_list = final_list\n",
        "temp_list = final_list\n",
        "def bubbleSort(arr): \n",
        "    n = len(arr) \n",
        "  \n",
        "    # Traverse through all array elements \n",
        "    for i in range(n): \n",
        "  \n",
        "        # Last i elements are already in place \n",
        "        for j in range(0, n-i-1): \n",
        "  \n",
        "            # traverse the array from 0 to n-i-1 \n",
        "            # Swap if the element found is greater \n",
        "            # than the next element \n",
        "            if arr[j] > arr[j+1] : \n",
        "                arr[j], arr[j+1] = arr[j+1], arr[j] \n",
        "\n",
        "bubbleSort(final_list)  \n",
        "print (\"Sorted list is:\") \n",
        "for i in range(len(final_list)): \n",
        "    # print (final_list[i])\n",
        "    temp_list[i]=float(final_list[i])\n",
        "\n",
        "temp_list"
      ],
      "execution_count": null,
      "outputs": []
    },
    {
      "cell_type": "code",
      "metadata": {
        "id": "scaVJ8AIYWSn",
        "colab_type": "code",
        "colab": {
          "base_uri": "https://localhost:8080/",
          "height": 292
        },
        "outputId": "6ad42aa5-08bd-4458-ce3c-78d01cb67eb5"
      },
      "source": [
        "sorted_array = temp_list\n",
        "print (df)\n",
        "print (sorted_array)"
      ],
      "execution_count": 17,
      "outputs": [
        {
          "output_type": "stream",
          "text": [
            "   total_bill   tip sex smoker     day    time table_size\n",
            "0       16.99  1.01   F      N  Sunday  Dinner          2\n",
            "1       10.34  1.66   M      N  Sunday  Dinner          3\n",
            "2       21.01   3.5   M      N  Sunday  Dinner          3\n",
            "3       23.68  3.31   M      N  Sunday  Dinner          2\n",
            "4       24.59  3.61   F      N  Sunday  Dinner          4\n",
            "..        ...   ...  ..    ...     ...     ...        ...\n",
            "94      22.75  3.25   F      N  Friday  Dinner          2\n",
            "95      40.17  4.73   M      Y  Friday  Dinner          4\n",
            "96      27.28     4   M      Y  Friday  Dinner          2\n",
            "97      12.03   1.5   M      Y  Friday  Dinner          2\n",
            "98      21.01     3   M      Y  Friday  Dinner          2\n",
            "\n",
            "[99 rows x 7 columns]\n",
            "[3.07, 5.75, 8.77, 9.55, 9.68, 9.94, 10.07, 10.27, 10.29, 10.33, 10.34, 10.51, 11.02, 11.24, 12.02, 12.03, 12.54, 12.69, 13.03, 13.37, 13.81, 13.94, 14.73, 14.78, 14.83, 15.01, 15.04, 15.06, 15.42, 15.77, 15.98, 16.04, 16.29, 16.31, 16.32, 16.45, 16.66, 16.93, 16.97, 16.99, 17.07, 17.29, 17.46, 17.59, 17.78, 17.81, 17.92, 17.92, 18.04, 18.28, 18.29, 18.29, 18.35, 18.43, 18.69, 19.44, 19.49, 19.65, 19.82, 20.08, 20.23, 20.29, 20.29, 20.65, 20.69, 21.01, 21.01, 21.16, 21.58, 21.7, 22.23, 22.49, 22.75, 22.76, 23.68, 24.06, 24.59, 24.71, 25.28, 25.29, 25.56, 26.41, 26.86, 26.88, 27.2, 27.28, 28.55, 28.97, 30.4, 31.27, 32.4, 32.68, 34.81, 34.83, 35.26, 38.01, 39.42, 40.17, 48.27]\n"
          ],
          "name": "stdout"
        }
      ]
    },
    {
      "cell_type": "code",
      "metadata": {
        "id": "wZ7Z7ECiZQy8",
        "colab_type": "code",
        "colab": {}
      },
      "source": [
        "# Task 4.2.3: Fetch associated rows with each value of the column from DataFrame (This method works for only distinct total_bill values)\n",
        "\n",
        "# df.loc[df['total_bill']==10.34]\n",
        "for item in sorted_array:\n",
        "  for i in (df['total_bill']):\n",
        "    if(item == i):\n",
        "      print (df.loc[df['total_bill']==i])\n",
        "\n",
        "\n",
        "#Phew!!!!!"
      ],
      "execution_count": null,
      "outputs": []
    },
    {
      "cell_type": "markdown",
      "metadata": {
        "id": "WHlVdtdshFYz",
        "colab_type": "text"
      },
      "source": [
        "## **Task 5 + Task 6**"
      ]
    },
    {
      "cell_type": "code",
      "metadata": {
        "id": "3cmhdRcGZvZs",
        "colab_type": "code",
        "colab": {
          "base_uri": "https://localhost:8080/",
          "height": 419
        },
        "outputId": "794017da-3745-4a99-957f-3e763a80237a"
      },
      "source": [
        "# Task 5: Use vectorised operations. \n",
        "# For example, you may be required to compute the percentage runs scored by each player, \n",
        "# where the percentage is with respect to the total runs scored by the team in an innings. \n",
        "df\n",
        "# In our case we can compare percentage ratio of total bill versus tip given. \n",
        "# We can add a new column once calculated for each customer"
      ],
      "execution_count": 19,
      "outputs": [
        {
          "output_type": "execute_result",
          "data": {
            "text/html": [
              "<div>\n",
              "<style scoped>\n",
              "    .dataframe tbody tr th:only-of-type {\n",
              "        vertical-align: middle;\n",
              "    }\n",
              "\n",
              "    .dataframe tbody tr th {\n",
              "        vertical-align: top;\n",
              "    }\n",
              "\n",
              "    .dataframe thead th {\n",
              "        text-align: right;\n",
              "    }\n",
              "</style>\n",
              "<table border=\"1\" class=\"dataframe\">\n",
              "  <thead>\n",
              "    <tr style=\"text-align: right;\">\n",
              "      <th></th>\n",
              "      <th>total_bill</th>\n",
              "      <th>tip</th>\n",
              "      <th>sex</th>\n",
              "      <th>smoker</th>\n",
              "      <th>day</th>\n",
              "      <th>time</th>\n",
              "      <th>table_size</th>\n",
              "    </tr>\n",
              "  </thead>\n",
              "  <tbody>\n",
              "    <tr>\n",
              "      <th>0</th>\n",
              "      <td>16.99</td>\n",
              "      <td>1.01</td>\n",
              "      <td>F</td>\n",
              "      <td>N</td>\n",
              "      <td>Sunday</td>\n",
              "      <td>Dinner</td>\n",
              "      <td>2</td>\n",
              "    </tr>\n",
              "    <tr>\n",
              "      <th>1</th>\n",
              "      <td>10.34</td>\n",
              "      <td>1.66</td>\n",
              "      <td>M</td>\n",
              "      <td>N</td>\n",
              "      <td>Sunday</td>\n",
              "      <td>Dinner</td>\n",
              "      <td>3</td>\n",
              "    </tr>\n",
              "    <tr>\n",
              "      <th>2</th>\n",
              "      <td>21.01</td>\n",
              "      <td>3.5</td>\n",
              "      <td>M</td>\n",
              "      <td>N</td>\n",
              "      <td>Sunday</td>\n",
              "      <td>Dinner</td>\n",
              "      <td>3</td>\n",
              "    </tr>\n",
              "    <tr>\n",
              "      <th>3</th>\n",
              "      <td>23.68</td>\n",
              "      <td>3.31</td>\n",
              "      <td>M</td>\n",
              "      <td>N</td>\n",
              "      <td>Sunday</td>\n",
              "      <td>Dinner</td>\n",
              "      <td>2</td>\n",
              "    </tr>\n",
              "    <tr>\n",
              "      <th>4</th>\n",
              "      <td>24.59</td>\n",
              "      <td>3.61</td>\n",
              "      <td>F</td>\n",
              "      <td>N</td>\n",
              "      <td>Sunday</td>\n",
              "      <td>Dinner</td>\n",
              "      <td>4</td>\n",
              "    </tr>\n",
              "    <tr>\n",
              "      <th>...</th>\n",
              "      <td>...</td>\n",
              "      <td>...</td>\n",
              "      <td>...</td>\n",
              "      <td>...</td>\n",
              "      <td>...</td>\n",
              "      <td>...</td>\n",
              "      <td>...</td>\n",
              "    </tr>\n",
              "    <tr>\n",
              "      <th>94</th>\n",
              "      <td>22.75</td>\n",
              "      <td>3.25</td>\n",
              "      <td>F</td>\n",
              "      <td>N</td>\n",
              "      <td>Friday</td>\n",
              "      <td>Dinner</td>\n",
              "      <td>2</td>\n",
              "    </tr>\n",
              "    <tr>\n",
              "      <th>95</th>\n",
              "      <td>40.17</td>\n",
              "      <td>4.73</td>\n",
              "      <td>M</td>\n",
              "      <td>Y</td>\n",
              "      <td>Friday</td>\n",
              "      <td>Dinner</td>\n",
              "      <td>4</td>\n",
              "    </tr>\n",
              "    <tr>\n",
              "      <th>96</th>\n",
              "      <td>27.28</td>\n",
              "      <td>4</td>\n",
              "      <td>M</td>\n",
              "      <td>Y</td>\n",
              "      <td>Friday</td>\n",
              "      <td>Dinner</td>\n",
              "      <td>2</td>\n",
              "    </tr>\n",
              "    <tr>\n",
              "      <th>97</th>\n",
              "      <td>12.03</td>\n",
              "      <td>1.5</td>\n",
              "      <td>M</td>\n",
              "      <td>Y</td>\n",
              "      <td>Friday</td>\n",
              "      <td>Dinner</td>\n",
              "      <td>2</td>\n",
              "    </tr>\n",
              "    <tr>\n",
              "      <th>98</th>\n",
              "      <td>21.01</td>\n",
              "      <td>3</td>\n",
              "      <td>M</td>\n",
              "      <td>Y</td>\n",
              "      <td>Friday</td>\n",
              "      <td>Dinner</td>\n",
              "      <td>2</td>\n",
              "    </tr>\n",
              "  </tbody>\n",
              "</table>\n",
              "<p>99 rows × 7 columns</p>\n",
              "</div>"
            ],
            "text/plain": [
              "   total_bill   tip sex smoker     day    time table_size\n",
              "0       16.99  1.01   F      N  Sunday  Dinner          2\n",
              "1       10.34  1.66   M      N  Sunday  Dinner          3\n",
              "2       21.01   3.5   M      N  Sunday  Dinner          3\n",
              "3       23.68  3.31   M      N  Sunday  Dinner          2\n",
              "4       24.59  3.61   F      N  Sunday  Dinner          4\n",
              "..        ...   ...  ..    ...     ...     ...        ...\n",
              "94      22.75  3.25   F      N  Friday  Dinner          2\n",
              "95      40.17  4.73   M      Y  Friday  Dinner          4\n",
              "96      27.28     4   M      Y  Friday  Dinner          2\n",
              "97      12.03   1.5   M      Y  Friday  Dinner          2\n",
              "98      21.01     3   M      Y  Friday  Dinner          2\n",
              "\n",
              "[99 rows x 7 columns]"
            ]
          },
          "metadata": {
            "tags": []
          },
          "execution_count": 19
        }
      ]
    },
    {
      "cell_type": "code",
      "metadata": {
        "id": "bXvSdy0Qhban",
        "colab_type": "code",
        "colab": {}
      },
      "source": [
        "# df['tip/bill']=(df['tip']/df['total_bill'])*100\n",
        "df['tip/bill'] = df['tip'] # Just to initialize the DataFrame of size same with the dataset\n",
        "rows_count=df.shape[0] # Gives row count\n",
        "for x in range (0,rows_count):\n",
        "  percentage = (float(df.tip[x])/df.total_bill[x])*100\n",
        "  df['tip/bill'][x]=float(percentage)\n",
        "  print (percentage)\n",
        "  \n",
        "\n"
      ],
      "execution_count": null,
      "outputs": []
    },
    {
      "cell_type": "code",
      "metadata": {
        "id": "peAbsvy5jEQL",
        "colab_type": "code",
        "colab": {
          "base_uri": "https://localhost:8080/",
          "height": 419
        },
        "outputId": "c2875aa3-f932-4386-e335-62a3e786ac50"
      },
      "source": [
        "df # Task 6 Addedd a new column to DataFrame namely tip/bill"
      ],
      "execution_count": 21,
      "outputs": [
        {
          "output_type": "execute_result",
          "data": {
            "text/html": [
              "<div>\n",
              "<style scoped>\n",
              "    .dataframe tbody tr th:only-of-type {\n",
              "        vertical-align: middle;\n",
              "    }\n",
              "\n",
              "    .dataframe tbody tr th {\n",
              "        vertical-align: top;\n",
              "    }\n",
              "\n",
              "    .dataframe thead th {\n",
              "        text-align: right;\n",
              "    }\n",
              "</style>\n",
              "<table border=\"1\" class=\"dataframe\">\n",
              "  <thead>\n",
              "    <tr style=\"text-align: right;\">\n",
              "      <th></th>\n",
              "      <th>total_bill</th>\n",
              "      <th>tip</th>\n",
              "      <th>sex</th>\n",
              "      <th>smoker</th>\n",
              "      <th>day</th>\n",
              "      <th>time</th>\n",
              "      <th>table_size</th>\n",
              "      <th>tip/bill</th>\n",
              "    </tr>\n",
              "  </thead>\n",
              "  <tbody>\n",
              "    <tr>\n",
              "      <th>0</th>\n",
              "      <td>16.99</td>\n",
              "      <td>1.01</td>\n",
              "      <td>F</td>\n",
              "      <td>N</td>\n",
              "      <td>Sunday</td>\n",
              "      <td>Dinner</td>\n",
              "      <td>2</td>\n",
              "      <td>5.94467</td>\n",
              "    </tr>\n",
              "    <tr>\n",
              "      <th>1</th>\n",
              "      <td>10.34</td>\n",
              "      <td>1.66</td>\n",
              "      <td>M</td>\n",
              "      <td>N</td>\n",
              "      <td>Sunday</td>\n",
              "      <td>Dinner</td>\n",
              "      <td>3</td>\n",
              "      <td>16.0542</td>\n",
              "    </tr>\n",
              "    <tr>\n",
              "      <th>2</th>\n",
              "      <td>21.01</td>\n",
              "      <td>3.5</td>\n",
              "      <td>M</td>\n",
              "      <td>N</td>\n",
              "      <td>Sunday</td>\n",
              "      <td>Dinner</td>\n",
              "      <td>3</td>\n",
              "      <td>16.6587</td>\n",
              "    </tr>\n",
              "    <tr>\n",
              "      <th>3</th>\n",
              "      <td>23.68</td>\n",
              "      <td>3.31</td>\n",
              "      <td>M</td>\n",
              "      <td>N</td>\n",
              "      <td>Sunday</td>\n",
              "      <td>Dinner</td>\n",
              "      <td>2</td>\n",
              "      <td>13.978</td>\n",
              "    </tr>\n",
              "    <tr>\n",
              "      <th>4</th>\n",
              "      <td>24.59</td>\n",
              "      <td>3.61</td>\n",
              "      <td>F</td>\n",
              "      <td>N</td>\n",
              "      <td>Sunday</td>\n",
              "      <td>Dinner</td>\n",
              "      <td>4</td>\n",
              "      <td>14.6808</td>\n",
              "    </tr>\n",
              "    <tr>\n",
              "      <th>...</th>\n",
              "      <td>...</td>\n",
              "      <td>...</td>\n",
              "      <td>...</td>\n",
              "      <td>...</td>\n",
              "      <td>...</td>\n",
              "      <td>...</td>\n",
              "      <td>...</td>\n",
              "      <td>...</td>\n",
              "    </tr>\n",
              "    <tr>\n",
              "      <th>94</th>\n",
              "      <td>22.75</td>\n",
              "      <td>3.25</td>\n",
              "      <td>F</td>\n",
              "      <td>N</td>\n",
              "      <td>Friday</td>\n",
              "      <td>Dinner</td>\n",
              "      <td>2</td>\n",
              "      <td>14.2857</td>\n",
              "    </tr>\n",
              "    <tr>\n",
              "      <th>95</th>\n",
              "      <td>40.17</td>\n",
              "      <td>4.73</td>\n",
              "      <td>M</td>\n",
              "      <td>Y</td>\n",
              "      <td>Friday</td>\n",
              "      <td>Dinner</td>\n",
              "      <td>4</td>\n",
              "      <td>11.775</td>\n",
              "    </tr>\n",
              "    <tr>\n",
              "      <th>96</th>\n",
              "      <td>27.28</td>\n",
              "      <td>4</td>\n",
              "      <td>M</td>\n",
              "      <td>Y</td>\n",
              "      <td>Friday</td>\n",
              "      <td>Dinner</td>\n",
              "      <td>2</td>\n",
              "      <td>14.6628</td>\n",
              "    </tr>\n",
              "    <tr>\n",
              "      <th>97</th>\n",
              "      <td>12.03</td>\n",
              "      <td>1.5</td>\n",
              "      <td>M</td>\n",
              "      <td>Y</td>\n",
              "      <td>Friday</td>\n",
              "      <td>Dinner</td>\n",
              "      <td>2</td>\n",
              "      <td>12.4688</td>\n",
              "    </tr>\n",
              "    <tr>\n",
              "      <th>98</th>\n",
              "      <td>21.01</td>\n",
              "      <td>3</td>\n",
              "      <td>M</td>\n",
              "      <td>Y</td>\n",
              "      <td>Friday</td>\n",
              "      <td>Dinner</td>\n",
              "      <td>2</td>\n",
              "      <td>14.2789</td>\n",
              "    </tr>\n",
              "  </tbody>\n",
              "</table>\n",
              "<p>99 rows × 8 columns</p>\n",
              "</div>"
            ],
            "text/plain": [
              "   total_bill   tip sex smoker     day    time table_size tip/bill\n",
              "0       16.99  1.01   F      N  Sunday  Dinner          2  5.94467\n",
              "1       10.34  1.66   M      N  Sunday  Dinner          3  16.0542\n",
              "2       21.01   3.5   M      N  Sunday  Dinner          3  16.6587\n",
              "3       23.68  3.31   M      N  Sunday  Dinner          2   13.978\n",
              "4       24.59  3.61   F      N  Sunday  Dinner          4  14.6808\n",
              "..        ...   ...  ..    ...     ...     ...        ...      ...\n",
              "94      22.75  3.25   F      N  Friday  Dinner          2  14.2857\n",
              "95      40.17  4.73   M      Y  Friday  Dinner          4   11.775\n",
              "96      27.28     4   M      Y  Friday  Dinner          2  14.6628\n",
              "97      12.03   1.5   M      Y  Friday  Dinner          2  12.4688\n",
              "98      21.01     3   M      Y  Friday  Dinner          2  14.2789\n",
              "\n",
              "[99 rows x 8 columns]"
            ]
          },
          "metadata": {
            "tags": []
          },
          "execution_count": 21
        }
      ]
    },
    {
      "cell_type": "markdown",
      "metadata": {
        "id": "CE5u3Pxql3Yy",
        "colab_type": "text"
      },
      "source": [
        "## **Task 7**"
      ]
    },
    {
      "cell_type": "code",
      "metadata": {
        "id": "r5M2EGk4lYgz",
        "colab_type": "code",
        "colab": {}
      },
      "source": [
        "# Task 7: Export the Dataframe to a file in pickle format and save it as a file.  Read the pickle file back to the program. "
      ],
      "execution_count": 22,
      "outputs": []
    },
    {
      "cell_type": "code",
      "metadata": {
        "id": "LcjNJ67Ll63p",
        "colab_type": "code",
        "colab": {
          "base_uri": "https://localhost:8080/",
          "height": 419
        },
        "outputId": "2af7a3a6-ed84-4677-fe8c-b2162135bc78"
      },
      "source": [
        "df.to_pickle(\"./assignment2.pkl\") # to_pickle saves the df as pkl file\n",
        "read_df = pd.read_pickle(\"./assignment2.pkl\") # reads the pkl file and unload it to a dataframe object\n",
        "read_df"
      ],
      "execution_count": 23,
      "outputs": [
        {
          "output_type": "execute_result",
          "data": {
            "text/html": [
              "<div>\n",
              "<style scoped>\n",
              "    .dataframe tbody tr th:only-of-type {\n",
              "        vertical-align: middle;\n",
              "    }\n",
              "\n",
              "    .dataframe tbody tr th {\n",
              "        vertical-align: top;\n",
              "    }\n",
              "\n",
              "    .dataframe thead th {\n",
              "        text-align: right;\n",
              "    }\n",
              "</style>\n",
              "<table border=\"1\" class=\"dataframe\">\n",
              "  <thead>\n",
              "    <tr style=\"text-align: right;\">\n",
              "      <th></th>\n",
              "      <th>total_bill</th>\n",
              "      <th>tip</th>\n",
              "      <th>sex</th>\n",
              "      <th>smoker</th>\n",
              "      <th>day</th>\n",
              "      <th>time</th>\n",
              "      <th>table_size</th>\n",
              "      <th>tip/bill</th>\n",
              "    </tr>\n",
              "  </thead>\n",
              "  <tbody>\n",
              "    <tr>\n",
              "      <th>0</th>\n",
              "      <td>16.99</td>\n",
              "      <td>1.01</td>\n",
              "      <td>F</td>\n",
              "      <td>N</td>\n",
              "      <td>Sunday</td>\n",
              "      <td>Dinner</td>\n",
              "      <td>2</td>\n",
              "      <td>5.94467</td>\n",
              "    </tr>\n",
              "    <tr>\n",
              "      <th>1</th>\n",
              "      <td>10.34</td>\n",
              "      <td>1.66</td>\n",
              "      <td>M</td>\n",
              "      <td>N</td>\n",
              "      <td>Sunday</td>\n",
              "      <td>Dinner</td>\n",
              "      <td>3</td>\n",
              "      <td>16.0542</td>\n",
              "    </tr>\n",
              "    <tr>\n",
              "      <th>2</th>\n",
              "      <td>21.01</td>\n",
              "      <td>3.5</td>\n",
              "      <td>M</td>\n",
              "      <td>N</td>\n",
              "      <td>Sunday</td>\n",
              "      <td>Dinner</td>\n",
              "      <td>3</td>\n",
              "      <td>16.6587</td>\n",
              "    </tr>\n",
              "    <tr>\n",
              "      <th>3</th>\n",
              "      <td>23.68</td>\n",
              "      <td>3.31</td>\n",
              "      <td>M</td>\n",
              "      <td>N</td>\n",
              "      <td>Sunday</td>\n",
              "      <td>Dinner</td>\n",
              "      <td>2</td>\n",
              "      <td>13.978</td>\n",
              "    </tr>\n",
              "    <tr>\n",
              "      <th>4</th>\n",
              "      <td>24.59</td>\n",
              "      <td>3.61</td>\n",
              "      <td>F</td>\n",
              "      <td>N</td>\n",
              "      <td>Sunday</td>\n",
              "      <td>Dinner</td>\n",
              "      <td>4</td>\n",
              "      <td>14.6808</td>\n",
              "    </tr>\n",
              "    <tr>\n",
              "      <th>...</th>\n",
              "      <td>...</td>\n",
              "      <td>...</td>\n",
              "      <td>...</td>\n",
              "      <td>...</td>\n",
              "      <td>...</td>\n",
              "      <td>...</td>\n",
              "      <td>...</td>\n",
              "      <td>...</td>\n",
              "    </tr>\n",
              "    <tr>\n",
              "      <th>94</th>\n",
              "      <td>22.75</td>\n",
              "      <td>3.25</td>\n",
              "      <td>F</td>\n",
              "      <td>N</td>\n",
              "      <td>Friday</td>\n",
              "      <td>Dinner</td>\n",
              "      <td>2</td>\n",
              "      <td>14.2857</td>\n",
              "    </tr>\n",
              "    <tr>\n",
              "      <th>95</th>\n",
              "      <td>40.17</td>\n",
              "      <td>4.73</td>\n",
              "      <td>M</td>\n",
              "      <td>Y</td>\n",
              "      <td>Friday</td>\n",
              "      <td>Dinner</td>\n",
              "      <td>4</td>\n",
              "      <td>11.775</td>\n",
              "    </tr>\n",
              "    <tr>\n",
              "      <th>96</th>\n",
              "      <td>27.28</td>\n",
              "      <td>4</td>\n",
              "      <td>M</td>\n",
              "      <td>Y</td>\n",
              "      <td>Friday</td>\n",
              "      <td>Dinner</td>\n",
              "      <td>2</td>\n",
              "      <td>14.6628</td>\n",
              "    </tr>\n",
              "    <tr>\n",
              "      <th>97</th>\n",
              "      <td>12.03</td>\n",
              "      <td>1.5</td>\n",
              "      <td>M</td>\n",
              "      <td>Y</td>\n",
              "      <td>Friday</td>\n",
              "      <td>Dinner</td>\n",
              "      <td>2</td>\n",
              "      <td>12.4688</td>\n",
              "    </tr>\n",
              "    <tr>\n",
              "      <th>98</th>\n",
              "      <td>21.01</td>\n",
              "      <td>3</td>\n",
              "      <td>M</td>\n",
              "      <td>Y</td>\n",
              "      <td>Friday</td>\n",
              "      <td>Dinner</td>\n",
              "      <td>2</td>\n",
              "      <td>14.2789</td>\n",
              "    </tr>\n",
              "  </tbody>\n",
              "</table>\n",
              "<p>99 rows × 8 columns</p>\n",
              "</div>"
            ],
            "text/plain": [
              "   total_bill   tip sex smoker     day    time table_size tip/bill\n",
              "0       16.99  1.01   F      N  Sunday  Dinner          2  5.94467\n",
              "1       10.34  1.66   M      N  Sunday  Dinner          3  16.0542\n",
              "2       21.01   3.5   M      N  Sunday  Dinner          3  16.6587\n",
              "3       23.68  3.31   M      N  Sunday  Dinner          2   13.978\n",
              "4       24.59  3.61   F      N  Sunday  Dinner          4  14.6808\n",
              "..        ...   ...  ..    ...     ...     ...        ...      ...\n",
              "94      22.75  3.25   F      N  Friday  Dinner          2  14.2857\n",
              "95      40.17  4.73   M      Y  Friday  Dinner          4   11.775\n",
              "96      27.28     4   M      Y  Friday  Dinner          2  14.6628\n",
              "97      12.03   1.5   M      Y  Friday  Dinner          2  12.4688\n",
              "98      21.01     3   M      Y  Friday  Dinner          2  14.2789\n",
              "\n",
              "[99 rows x 8 columns]"
            ]
          },
          "metadata": {
            "tags": []
          },
          "execution_count": 23
        }
      ]
    },
    {
      "cell_type": "markdown",
      "metadata": {
        "id": "UiaMXE_Lnf2G",
        "colab_type": "text"
      },
      "source": [
        "## **Task 8** + **Task 9**"
      ]
    },
    {
      "cell_type": "code",
      "metadata": {
        "id": "Y8iHALdonWV6",
        "colab_type": "code",
        "colab": {}
      },
      "source": [
        "# Task 8+9: Use matplotlib library to make a scatter plot of columns that contain numeric\n",
        "# In our example, we can make a scatter plot as x-asis for total bill and y axis as tip and vice versa.\n",
        "# Also printing labels\n",
        "import matplotlib.pyplot as plt"
      ],
      "execution_count": 24,
      "outputs": []
    },
    {
      "cell_type": "code",
      "metadata": {
        "id": "q7k5gQS9nsi_",
        "colab_type": "code",
        "colab": {
          "base_uri": "https://localhost:8080/",
          "height": 296
        },
        "outputId": "32694598-ad2e-41f7-a81e-81e4a228744b"
      },
      "source": [
        "# Task 8.1: x-axis: total_bill , y-axis: tip\n",
        "plt.scatter(df['total_bill'],df['tip'])\n",
        "plt.xlabel(\"total bill\") \n",
        "plt.ylabel(\"tip\")"
      ],
      "execution_count": 25,
      "outputs": [
        {
          "output_type": "execute_result",
          "data": {
            "text/plain": [
              "Text(0, 0.5, 'tip')"
            ]
          },
          "metadata": {
            "tags": []
          },
          "execution_count": 25
        },
        {
          "output_type": "display_data",
          "data": {
            "image/png": "[encoded data removed]",
            "text/plain": [
              "<Figure size 432x288 with 1 Axes>"
            ]
          },
          "metadata": {
            "tags": [],
            "needs_background": "light"
          }
        }
      ]
    },
    {
      "cell_type": "code",
      "metadata": {
        "id": "gebDi4EdoVyo",
        "colab_type": "code",
        "colab": {
          "base_uri": "https://localhost:8080/",
          "height": 298
        },
        "outputId": "d86a635c-b928-4ca1-c8ff-5385176415d9"
      },
      "source": [
        "# Task 8.2: y-axis: total_bill , x-axis: tip\n",
        "plt.scatter(df['tip'],df['total_bill'])\n",
        "plt.xlabel(\"tip\") \n",
        "plt.ylabel(\"total bill\")"
      ],
      "execution_count": 26,
      "outputs": [
        {
          "output_type": "execute_result",
          "data": {
            "text/plain": [
              "Text(0, 0.5, 'total bill')"
            ]
          },
          "metadata": {
            "tags": []
          },
          "execution_count": 26
        },
        {
          "output_type": "display_data",
          "data": {
            "image/png": "[encoded data removed]",
            "text/plain": [
              "<Figure size 432x288 with 1 Axes>"
            ]
          },
          "metadata": {
            "tags": [],
            "needs_background": "light"
          }
        }
      ]
    },
    {
      "cell_type": "markdown",
      "metadata": {
        "id": "8pCd5fXjpeZ2",
        "colab_type": "text"
      },
      "source": [
        "### **Task 10**"
      ]
    },
    {
      "cell_type": "code",
      "metadata": {
        "id": "Tf_6gmDco8wj",
        "colab_type": "code",
        "colab": {
          "base_uri": "https://localhost:8080/",
          "height": 419
        },
        "outputId": "3d2d9ea5-64e2-4092-aae5-ca3d8413dda8"
      },
      "source": [
        "# Task 10:Implement linear regression to model the dependency \n",
        "# between two variables - the predictor x and target y. You can choose any two \n",
        "# columns in your data frame as the two variables. \n",
        "\n",
        "# Print the coefficients obtained from linear regression and plot the straight line on the scatter plot.  \n",
        "\n",
        "# Do not use any inbuilt function for implementing linear regression.  \n",
        "\n",
        "# You need to formulate a linear system of equations and solve them using pseudo inverse.  \n",
        "\n",
        "# You can compare your result with that produced by the fit() \n",
        "# function of LinearRegression model in sklearn. \n",
        "\n",
        "df\n",
        "\n",
        "# Choosing total_bill and tip as two variables. "
      ],
      "execution_count": 27,
      "outputs": [
        {
          "output_type": "execute_result",
          "data": {
            "text/html": [
              "<div>\n",
              "<style scoped>\n",
              "    .dataframe tbody tr th:only-of-type {\n",
              "        vertical-align: middle;\n",
              "    }\n",
              "\n",
              "    .dataframe tbody tr th {\n",
              "        vertical-align: top;\n",
              "    }\n",
              "\n",
              "    .dataframe thead th {\n",
              "        text-align: right;\n",
              "    }\n",
              "</style>\n",
              "<table border=\"1\" class=\"dataframe\">\n",
              "  <thead>\n",
              "    <tr style=\"text-align: right;\">\n",
              "      <th></th>\n",
              "      <th>total_bill</th>\n",
              "      <th>tip</th>\n",
              "      <th>sex</th>\n",
              "      <th>smoker</th>\n",
              "      <th>day</th>\n",
              "      <th>time</th>\n",
              "      <th>table_size</th>\n",
              "      <th>tip/bill</th>\n",
              "    </tr>\n",
              "  </thead>\n",
              "  <tbody>\n",
              "    <tr>\n",
              "      <th>0</th>\n",
              "      <td>16.99</td>\n",
              "      <td>1.01</td>\n",
              "      <td>F</td>\n",
              "      <td>N</td>\n",
              "      <td>Sunday</td>\n",
              "      <td>Dinner</td>\n",
              "      <td>2</td>\n",
              "      <td>5.94467</td>\n",
              "    </tr>\n",
              "    <tr>\n",
              "      <th>1</th>\n",
              "      <td>10.34</td>\n",
              "      <td>1.66</td>\n",
              "      <td>M</td>\n",
              "      <td>N</td>\n",
              "      <td>Sunday</td>\n",
              "      <td>Dinner</td>\n",
              "      <td>3</td>\n",
              "      <td>16.0542</td>\n",
              "    </tr>\n",
              "    <tr>\n",
              "      <th>2</th>\n",
              "      <td>21.01</td>\n",
              "      <td>3.5</td>\n",
              "      <td>M</td>\n",
              "      <td>N</td>\n",
              "      <td>Sunday</td>\n",
              "      <td>Dinner</td>\n",
              "      <td>3</td>\n",
              "      <td>16.6587</td>\n",
              "    </tr>\n",
              "    <tr>\n",
              "      <th>3</th>\n",
              "      <td>23.68</td>\n",
              "      <td>3.31</td>\n",
              "      <td>M</td>\n",
              "      <td>N</td>\n",
              "      <td>Sunday</td>\n",
              "      <td>Dinner</td>\n",
              "      <td>2</td>\n",
              "      <td>13.978</td>\n",
              "    </tr>\n",
              "    <tr>\n",
              "      <th>4</th>\n",
              "      <td>24.59</td>\n",
              "      <td>3.61</td>\n",
              "      <td>F</td>\n",
              "      <td>N</td>\n",
              "      <td>Sunday</td>\n",
              "      <td>Dinner</td>\n",
              "      <td>4</td>\n",
              "      <td>14.6808</td>\n",
              "    </tr>\n",
              "    <tr>\n",
              "      <th>...</th>\n",
              "      <td>...</td>\n",
              "      <td>...</td>\n",
              "      <td>...</td>\n",
              "      <td>...</td>\n",
              "      <td>...</td>\n",
              "      <td>...</td>\n",
              "      <td>...</td>\n",
              "      <td>...</td>\n",
              "    </tr>\n",
              "    <tr>\n",
              "      <th>94</th>\n",
              "      <td>22.75</td>\n",
              "      <td>3.25</td>\n",
              "      <td>F</td>\n",
              "      <td>N</td>\n",
              "      <td>Friday</td>\n",
              "      <td>Dinner</td>\n",
              "      <td>2</td>\n",
              "      <td>14.2857</td>\n",
              "    </tr>\n",
              "    <tr>\n",
              "      <th>95</th>\n",
              "      <td>40.17</td>\n",
              "      <td>4.73</td>\n",
              "      <td>M</td>\n",
              "      <td>Y</td>\n",
              "      <td>Friday</td>\n",
              "      <td>Dinner</td>\n",
              "      <td>4</td>\n",
              "      <td>11.775</td>\n",
              "    </tr>\n",
              "    <tr>\n",
              "      <th>96</th>\n",
              "      <td>27.28</td>\n",
              "      <td>4</td>\n",
              "      <td>M</td>\n",
              "      <td>Y</td>\n",
              "      <td>Friday</td>\n",
              "      <td>Dinner</td>\n",
              "      <td>2</td>\n",
              "      <td>14.6628</td>\n",
              "    </tr>\n",
              "    <tr>\n",
              "      <th>97</th>\n",
              "      <td>12.03</td>\n",
              "      <td>1.5</td>\n",
              "      <td>M</td>\n",
              "      <td>Y</td>\n",
              "      <td>Friday</td>\n",
              "      <td>Dinner</td>\n",
              "      <td>2</td>\n",
              "      <td>12.4688</td>\n",
              "    </tr>\n",
              "    <tr>\n",
              "      <th>98</th>\n",
              "      <td>21.01</td>\n",
              "      <td>3</td>\n",
              "      <td>M</td>\n",
              "      <td>Y</td>\n",
              "      <td>Friday</td>\n",
              "      <td>Dinner</td>\n",
              "      <td>2</td>\n",
              "      <td>14.2789</td>\n",
              "    </tr>\n",
              "  </tbody>\n",
              "</table>\n",
              "<p>99 rows × 8 columns</p>\n",
              "</div>"
            ],
            "text/plain": [
              "   total_bill   tip sex smoker     day    time table_size tip/bill\n",
              "0       16.99  1.01   F      N  Sunday  Dinner          2  5.94467\n",
              "1       10.34  1.66   M      N  Sunday  Dinner          3  16.0542\n",
              "2       21.01   3.5   M      N  Sunday  Dinner          3  16.6587\n",
              "3       23.68  3.31   M      N  Sunday  Dinner          2   13.978\n",
              "4       24.59  3.61   F      N  Sunday  Dinner          4  14.6808\n",
              "..        ...   ...  ..    ...     ...     ...        ...      ...\n",
              "94      22.75  3.25   F      N  Friday  Dinner          2  14.2857\n",
              "95      40.17  4.73   M      Y  Friday  Dinner          4   11.775\n",
              "96      27.28     4   M      Y  Friday  Dinner          2  14.6628\n",
              "97      12.03   1.5   M      Y  Friday  Dinner          2  12.4688\n",
              "98      21.01     3   M      Y  Friday  Dinner          2  14.2789\n",
              "\n",
              "[99 rows x 8 columns]"
            ]
          },
          "metadata": {
            "tags": []
          },
          "execution_count": 27
        }
      ]
    },
    {
      "cell_type": "code",
      "metadata": {
        "id": "3yFNp5HopwwQ",
        "colab_type": "code",
        "colab": {
          "base_uri": "https://localhost:8080/",
          "height": 296
        },
        "outputId": "e039cc61-c7e1-4aad-fd53-8209315dbf86"
      },
      "source": [
        "# Let us again plot tip vs total_bill\n",
        "plt.scatter(df['total_bill'],df['tip'], marker='+')\n",
        "plt.xlabel(\"total bill\") \n",
        "plt.ylabel(\"tip\")"
      ],
      "execution_count": 28,
      "outputs": [
        {
          "output_type": "execute_result",
          "data": {
            "text/plain": [
              "Text(0, 0.5, 'tip')"
            ]
          },
          "metadata": {
            "tags": []
          },
          "execution_count": 28
        },
        {
          "output_type": "display_data",
          "data": {
            "image/png": "[encoded data removed]",
            "text/plain": [
              "<Figure size 432x288 with 1 Axes>"
            ]
          },
          "metadata": {
            "tags": [],
            "needs_background": "light"
          }
        }
      ]
    },
    {
      "cell_type": "code",
      "metadata": {
        "id": "BQoqP5Eo_2nO",
        "colab_type": "code",
        "colab": {}
      },
      "source": [
        "# Print the coefficients obtained from linear regression and plot the straight line on the scatter plot.  \n",
        "\n",
        "# convert all stuff to float\n",
        "\n",
        "predictorX = df['total_bill']\n",
        "for datax in range (0,len(df['total_bill'])):\n",
        "  predictorX[datax]=float(df['total_bill'][datax])\n",
        "# print (predictorX)\n",
        "\n",
        "targetY = df['tip']\n",
        "for datay in range (0,len(df['tip'])):\n",
        "  targetY[datay]=float(df['tip'][datay])\n",
        "# print (predictorX)\n",
        "# print (targetY)\n",
        "X = predictorX\n",
        "Y = targetY"
      ],
      "execution_count": 30,
      "outputs": []
    },
    {
      "cell_type": "markdown",
      "metadata": {
        "id": "ONdl7BOVHZ3J",
        "colab_type": "text"
      },
      "source": [
        "\n",
        "\n",
        "---\n",
        "\n",
        "\n",
        "\n",
        "---\n",
        "\n",
        "\n",
        "This is using \n",
        "# Using inverse\n",
        "from numpy.linalg import inv\n",
        "\n",
        "inv(X^T * X) * X^T * y (Inverse Method)\n",
        "\n",
        "This is prone to the matrix which is non invertible. "
      ]
    },
    {
      "cell_type": "code",
      "metadata": {
        "id": "g4B9WA3Sj4Wl",
        "colab_type": "code",
        "colab": {
          "base_uri": "https://localhost:8080/",
          "height": 300
        },
        "outputId": "513cc0db-8f4b-4750-a527-9266798f3207"
      },
      "source": [
        "# Print the coefficients obtained from linear regression and plot the straight line on the scatter plot.  \n",
        "\n",
        "# convert all stuff to float\n",
        "import numpy as np\n",
        "predictorX = df['total_bill']\n",
        "for datax in range (0,len(df['total_bill'])):\n",
        "  predictorX[datax]=float(df['total_bill'][datax])\n",
        "# print (predictorX)\n",
        "\n",
        "targetY = df['tip']\n",
        "for datay in range (0,len(df['tip'])):\n",
        "  targetY[datay]=float(df['tip'][datay])\n",
        "# print (predictorX)\n",
        "# print (targetY)\n",
        "X = predictorX\n",
        "Y = targetY\n",
        "\n",
        "# Using inverse\n",
        "from numpy.linalg import inv\n",
        "X = X.to_numpy(dtype=np.float).reshape((-1,1))\n",
        "b = inv(X.T.dot(X)).dot(X.T).dot(Y) # Least squares inv(X^T * X) * X^T * y (Inverse Method)\n",
        "#  This is prone with the matrix being non invertible. \n",
        "print(b)\n",
        "ycap = X.dot(b)\n",
        "plt.scatter(X, Y)\n",
        "plt.plot(X, ycap, color='red')\n",
        "plt.xlabel(\"total bill\") \n",
        "plt.ylabel(\"tip\")\n",
        "plt.xlim(8,30)\n",
        "plt.ylim(0,5)\n",
        "plt.show()"
      ],
      "execution_count": 31,
      "outputs": [
        {
          "output_type": "stream",
          "text": [
            "[0.15226656779345843]\n"
          ],
          "name": "stdout"
        },
        {
          "output_type": "display_data",
          "data": {
            "image/png": "[encoded data removed]",
            "text/plain": [
              "<Figure size 432x288 with 1 Axes>"
            ]
          },
          "metadata": {
            "tags": [],
            "needs_background": "light"
          }
        }
      ]
    },
    {
      "cell_type": "markdown",
      "metadata": {
        "id": "n0b06Rq9Gi__",
        "colab_type": "text"
      },
      "source": [
        "\n",
        "\n",
        "---\n",
        "\n",
        "\n",
        "\n",
        "---\n",
        "\n",
        "\n",
        "This is using \n",
        "\n",
        "# Pseudo Inverse\n",
        "\n",
        "from numpy.linalg import pinv\n",
        "\n",
        "b = pinv(X).dot(Y) # Pseudo Inverse\n",
        "\n",
        "![image.png](data:image/png;base64,iVBORw0KGgoAAAANSUhEUgAAAK4AAAAaCAYAAAAuV2eNAAAEQElEQVR4Ae2biVHkMBBFJwRiIARiIARiIARiIARiIARiIARiIIXZeip90yNrbGncsj3WbtWUdfb1v1oHtaeHh4fz6XQKP8o1P83Lfb++vpD5/1/jCHSL38fHx0Dc5+fnm8j28/NzRs7Ly8tiWY1xPj09PZ3f3t6CvfjLD9vf39/Pj4+PN/nf2uYp+b3hdxGLSNhAuhiIi/6ayu/v7/n19TXIgtA1c1uPZRewO4FIK70QWuV7+vaC3wgTyGa3HA/CfX5+isAjfVs1pIsSn62v2LyVbUv09oJfNkYxE4VM6bVlksEIalbhxo0QNi7WjS3xUd8bfhdRi1tlIG/c7i/6j1Qh+8Yt9jBu9YTfCDQuL3oluNetc+RUpoGLJBeyTNddN/WC3wikFuelkZIdNHAc+v7+Phxxe8EvS6GYaUPmjSs4O+5eG+O5+3CkFR5Hx09+Zr960uLY0OqZiAsFQUYXlyXqnD2p33KpK5GHfI4JXMwo1+ghQ8teGzTsjWQ5KePZ1wo7dq1ya/yuxSIXnxKfS7ArkRPGxNeFkHkRXDyxYKAcZyhl+6aK3lp93vJSFyCkyJkeM1gE6Nccdqkp+yEVi6fktyRptMLPxiL1HRxr7w7u2MWsEYiLgTXZSSBe+1rnIuiDfDKhnQdh0jbbT7lGXjq3pC4impiEaWldtmydcbHD2BZ2GC/8FAvhZuOXEtkbuxJ5wZ5ImEBeMoQ10qsM6Txle8uzfpIBra3EJ31Wm1tkVl7rckv80ljkiFzrnyt2Eahhq6w1Zm48W6u24bmxJf1z8opXbUZZeowhNjbbM2VPxMWeVvilsSAO6SLOhHCyaQ67yclpJ8KWnLVSedS13Wg7s9uYJQIksBkuJ6tG3rX5Fe3DkYY5KXj4EzPPVZFrnXFlQAv8Il4XsUjPt97YlcoLfkOaEuIoSCVfDIgXh5CdKIu49Ol8SBl5tp86/dhk55TIK7FNY1IdaucMJ/vQT93uFrJZ47f+tsDP+DQcHWNMhkWrOHhhd02eseWvSOZjtf61+JRwkgwO4JTJvqqn2Yr+1AbGWALVyCMAJQsx1SHPsZWMiRx+jEMeZeKlxaTxW35b4Sef8Bnc9I1/cVV3SDCe2OW4MChTAVKlq0V9a34VGA+dBBg5e/DLw58pGWvjxyKJb8eDWZ7YIXRW3rVsM1i0YkEkE+mWqi5atUuVbDx/DfzIpLqn4K7dAeW+N3aT8gAWI6xRMmSLr7Zl7PLQP7tqPZRsKGMt/OxxSxilbqvdC7tJebDaK7tBktSZreuTq3Zr4xz0r4UfHOHHEcFeTh1cqBfBc4YX2XCKFVJvRdsZk6u2rerm0nvAbxREAF36eIxQbtWRsLs5boycPWBDl/jd+mwCSTm/cB4mw0bik2XDOfmA/NilS13iFy9hgWz6nw8eX68jxy6ZsiOjusVP729sNZ6/PT3E74hn7qb0it8/PsNuJmrP/BcAAAAASUVORK5CYII=)"
      ]
    },
    {
      "cell_type": "code",
      "metadata": {
        "id": "o-qk0GJ5Gx23",
        "colab_type": "code",
        "colab": {
          "base_uri": "https://localhost:8080/",
          "height": 300
        },
        "outputId": "3cc09f2b-5fa3-45dd-f263-c87c1fd3e11d"
      },
      "source": [
        "# Print the coefficients obtained from linear regression and plot the straight line on the scatter plot.  \n",
        "\n",
        "# convert all stuff to float\n",
        "# import numpy as np\n",
        "from numpy.linalg import pinv\n",
        "predictorX = df['total_bill']\n",
        "for datax in range (0,len(df['total_bill'])):\n",
        "  predictorX[datax]=float(df['total_bill'][datax])\n",
        "# print (predictorX)\n",
        "\n",
        "targetY = df['tip']\n",
        "for datay in range (0,len(df['tip'])):\n",
        "  targetY[datay]=float(df['tip'][datay])\n",
        "# print (predictorX)\n",
        "# print (targetY)\n",
        "X = predictorX\n",
        "Y = targetY\n",
        "\n",
        "# Using pseudo inverse\n",
        "from numpy.linalg import inv\n",
        "X = X.to_numpy(dtype=np.float).reshape((-1,1))\n",
        "# b = inv(X.T.dot(X)).dot(X.T).dot(Y) # Least squares inv(X^T * X) * X^T * y (Inverse Method) \n",
        "b = pinv(X).dot(Y) # Pseudo Inverse\n",
        "print(b)\n",
        "yhat = X.dot(b)\n",
        "plt.scatter(X, Y)\n",
        "plt.plot(X, yhat, color='red')\n",
        "plt.xlabel(\"total bill\") \n",
        "plt.ylabel(\"tip\")\n",
        "plt.xlim(8,30)\n",
        "plt.ylim(0,5)\n",
        "plt.show()"
      ],
      "execution_count": 32,
      "outputs": [
        {
          "output_type": "stream",
          "text": [
            "[0.15226656779345846]\n"
          ],
          "name": "stdout"
        },
        {
          "output_type": "display_data",
          "data": {
            "image/png": "[encoded data removed]",
            "text/plain": [
              "<Figure size 432x288 with 1 Axes>"
            ]
          },
          "metadata": {
            "tags": [],
            "needs_background": "light"
          }
        }
      ]
    },
    {
      "cell_type": "markdown",
      "metadata": {
        "id": "O5yWaIFLrivG",
        "colab_type": "text"
      },
      "source": [
        "## **Basic Approach for calculating Linear Regression without function.**"
      ]
    },
    {
      "cell_type": "code",
      "metadata": {
        "id": "ndgT4x8hFL_c",
        "colab_type": "code",
        "colab": {
          "base_uri": "https://localhost:8080/",
          "height": 419
        },
        "outputId": "7e7718f4-2fdd-43b8-89f2-450fd100f981"
      },
      "source": [
        "X = df['total_bill']\n",
        "tab = pd.DataFrame()\n",
        "tab['X']=X\n",
        "tab['Y']=Y\n",
        "tab\n",
        "# for x in range (0,rows_count):\n",
        "#   percentage = (float(df.tip[x])/df.total_bill[x])*100\n",
        "#   df['tip/bill'][x]=float(percentage)\n",
        "#   print (percentage)\n",
        "# plt.plot(X,Y)"
      ],
      "execution_count": 33,
      "outputs": [
        {
          "output_type": "execute_result",
          "data": {
            "text/html": [
              "<div>\n",
              "<style scoped>\n",
              "    .dataframe tbody tr th:only-of-type {\n",
              "        vertical-align: middle;\n",
              "    }\n",
              "\n",
              "    .dataframe tbody tr th {\n",
              "        vertical-align: top;\n",
              "    }\n",
              "\n",
              "    .dataframe thead th {\n",
              "        text-align: right;\n",
              "    }\n",
              "</style>\n",
              "<table border=\"1\" class=\"dataframe\">\n",
              "  <thead>\n",
              "    <tr style=\"text-align: right;\">\n",
              "      <th></th>\n",
              "      <th>X</th>\n",
              "      <th>Y</th>\n",
              "    </tr>\n",
              "  </thead>\n",
              "  <tbody>\n",
              "    <tr>\n",
              "      <th>0</th>\n",
              "      <td>16.99</td>\n",
              "      <td>1.01</td>\n",
              "    </tr>\n",
              "    <tr>\n",
              "      <th>1</th>\n",
              "      <td>10.34</td>\n",
              "      <td>1.66</td>\n",
              "    </tr>\n",
              "    <tr>\n",
              "      <th>2</th>\n",
              "      <td>21.01</td>\n",
              "      <td>3.5</td>\n",
              "    </tr>\n",
              "    <tr>\n",
              "      <th>3</th>\n",
              "      <td>23.68</td>\n",
              "      <td>3.31</td>\n",
              "    </tr>\n",
              "    <tr>\n",
              "      <th>4</th>\n",
              "      <td>24.59</td>\n",
              "      <td>3.61</td>\n",
              "    </tr>\n",
              "    <tr>\n",
              "      <th>...</th>\n",
              "      <td>...</td>\n",
              "      <td>...</td>\n",
              "    </tr>\n",
              "    <tr>\n",
              "      <th>94</th>\n",
              "      <td>22.75</td>\n",
              "      <td>3.25</td>\n",
              "    </tr>\n",
              "    <tr>\n",
              "      <th>95</th>\n",
              "      <td>40.17</td>\n",
              "      <td>4.73</td>\n",
              "    </tr>\n",
              "    <tr>\n",
              "      <th>96</th>\n",
              "      <td>27.28</td>\n",
              "      <td>4</td>\n",
              "    </tr>\n",
              "    <tr>\n",
              "      <th>97</th>\n",
              "      <td>12.03</td>\n",
              "      <td>1.5</td>\n",
              "    </tr>\n",
              "    <tr>\n",
              "      <th>98</th>\n",
              "      <td>21.01</td>\n",
              "      <td>3</td>\n",
              "    </tr>\n",
              "  </tbody>\n",
              "</table>\n",
              "<p>99 rows × 2 columns</p>\n",
              "</div>"
            ],
            "text/plain": [
              "        X     Y\n",
              "0   16.99  1.01\n",
              "1   10.34  1.66\n",
              "2   21.01   3.5\n",
              "3   23.68  3.31\n",
              "4   24.59  3.61\n",
              "..    ...   ...\n",
              "94  22.75  3.25\n",
              "95  40.17  4.73\n",
              "96  27.28     4\n",
              "97  12.03   1.5\n",
              "98  21.01     3\n",
              "\n",
              "[99 rows x 2 columns]"
            ]
          },
          "metadata": {
            "tags": []
          },
          "execution_count": 33
        }
      ]
    },
    {
      "cell_type": "code",
      "metadata": {
        "id": "qJdfPZU7IQPC",
        "colab_type": "code",
        "colab": {}
      },
      "source": [
        "tab['XY']=tab['X'] # Just to initializae with the same size\n",
        "for each in range(0, tab.shape[0]):\n",
        "  product = float(tab.X[each]) * float(tab.Y[each])\n",
        "  tab['XY'][each]=float(product) # writing the actual values\n",
        "  print(product)\n",
        "\n",
        "tab"
      ],
      "execution_count": null,
      "outputs": []
    },
    {
      "cell_type": "code",
      "metadata": {
        "id": "imq-HPeZTizI",
        "colab_type": "code",
        "colab": {
          "base_uri": "https://localhost:8080/",
          "height": 419
        },
        "outputId": "9713f50b-5d2d-4ed5-b648-2b3494491dc3"
      },
      "source": [
        "tab['X2']=tab['X'] # Just to initializae with the same size\n",
        "for each in range(0, tab.shape[0]):\n",
        "  square = float(tab.X[each]) * float(tab.X[each])\n",
        "  tab['X2'][each]=float(square) # writing the actual values\n",
        "  # print(square)\n",
        "\n",
        "\n",
        "tab['Y2']=tab['X'] # Just to initializae with the same size\n",
        "for each in range(0, tab.shape[0]):\n",
        "  square = float(tab.Y[each]) * float(tab.Y[each])\n",
        "  tab['Y2'][each]=float(square) # writing the actual values\n",
        "  # print(square)\n",
        "\n",
        "tab\n"
      ],
      "execution_count": 35,
      "outputs": [
        {
          "output_type": "execute_result",
          "data": {
            "text/html": [
              "<div>\n",
              "<style scoped>\n",
              "    .dataframe tbody tr th:only-of-type {\n",
              "        vertical-align: middle;\n",
              "    }\n",
              "\n",
              "    .dataframe tbody tr th {\n",
              "        vertical-align: top;\n",
              "    }\n",
              "\n",
              "    .dataframe thead th {\n",
              "        text-align: right;\n",
              "    }\n",
              "</style>\n",
              "<table border=\"1\" class=\"dataframe\">\n",
              "  <thead>\n",
              "    <tr style=\"text-align: right;\">\n",
              "      <th></th>\n",
              "      <th>X</th>\n",
              "      <th>Y</th>\n",
              "      <th>XY</th>\n",
              "      <th>X2</th>\n",
              "      <th>Y2</th>\n",
              "    </tr>\n",
              "  </thead>\n",
              "  <tbody>\n",
              "    <tr>\n",
              "      <th>0</th>\n",
              "      <td>16.99</td>\n",
              "      <td>1.01</td>\n",
              "      <td>17.1599</td>\n",
              "      <td>288.66</td>\n",
              "      <td>1.0201</td>\n",
              "    </tr>\n",
              "    <tr>\n",
              "      <th>1</th>\n",
              "      <td>10.34</td>\n",
              "      <td>1.66</td>\n",
              "      <td>17.1644</td>\n",
              "      <td>106.916</td>\n",
              "      <td>2.7556</td>\n",
              "    </tr>\n",
              "    <tr>\n",
              "      <th>2</th>\n",
              "      <td>21.01</td>\n",
              "      <td>3.5</td>\n",
              "      <td>73.535</td>\n",
              "      <td>441.42</td>\n",
              "      <td>12.25</td>\n",
              "    </tr>\n",
              "    <tr>\n",
              "      <th>3</th>\n",
              "      <td>23.68</td>\n",
              "      <td>3.31</td>\n",
              "      <td>78.3808</td>\n",
              "      <td>560.742</td>\n",
              "      <td>10.9561</td>\n",
              "    </tr>\n",
              "    <tr>\n",
              "      <th>4</th>\n",
              "      <td>24.59</td>\n",
              "      <td>3.61</td>\n",
              "      <td>88.7699</td>\n",
              "      <td>604.668</td>\n",
              "      <td>13.0321</td>\n",
              "    </tr>\n",
              "    <tr>\n",
              "      <th>...</th>\n",
              "      <td>...</td>\n",
              "      <td>...</td>\n",
              "      <td>...</td>\n",
              "      <td>...</td>\n",
              "      <td>...</td>\n",
              "    </tr>\n",
              "    <tr>\n",
              "      <th>94</th>\n",
              "      <td>22.75</td>\n",
              "      <td>3.25</td>\n",
              "      <td>73.9375</td>\n",
              "      <td>517.562</td>\n",
              "      <td>10.5625</td>\n",
              "    </tr>\n",
              "    <tr>\n",
              "      <th>95</th>\n",
              "      <td>40.17</td>\n",
              "      <td>4.73</td>\n",
              "      <td>190.004</td>\n",
              "      <td>1613.63</td>\n",
              "      <td>22.3729</td>\n",
              "    </tr>\n",
              "    <tr>\n",
              "      <th>96</th>\n",
              "      <td>27.28</td>\n",
              "      <td>4</td>\n",
              "      <td>109.12</td>\n",
              "      <td>744.198</td>\n",
              "      <td>16</td>\n",
              "    </tr>\n",
              "    <tr>\n",
              "      <th>97</th>\n",
              "      <td>12.03</td>\n",
              "      <td>1.5</td>\n",
              "      <td>18.045</td>\n",
              "      <td>144.721</td>\n",
              "      <td>2.25</td>\n",
              "    </tr>\n",
              "    <tr>\n",
              "      <th>98</th>\n",
              "      <td>21.01</td>\n",
              "      <td>3</td>\n",
              "      <td>63.03</td>\n",
              "      <td>441.42</td>\n",
              "      <td>9</td>\n",
              "    </tr>\n",
              "  </tbody>\n",
              "</table>\n",
              "<p>99 rows × 5 columns</p>\n",
              "</div>"
            ],
            "text/plain": [
              "        X     Y       XY       X2       Y2\n",
              "0   16.99  1.01  17.1599   288.66   1.0201\n",
              "1   10.34  1.66  17.1644  106.916   2.7556\n",
              "2   21.01   3.5   73.535   441.42    12.25\n",
              "3   23.68  3.31  78.3808  560.742  10.9561\n",
              "4   24.59  3.61  88.7699  604.668  13.0321\n",
              "..    ...   ...      ...      ...      ...\n",
              "94  22.75  3.25  73.9375  517.562  10.5625\n",
              "95  40.17  4.73  190.004  1613.63  22.3729\n",
              "96  27.28     4   109.12  744.198       16\n",
              "97  12.03   1.5   18.045  144.721     2.25\n",
              "98  21.01     3    63.03   441.42        9\n",
              "\n",
              "[99 rows x 5 columns]"
            ]
          },
          "metadata": {
            "tags": []
          },
          "execution_count": 35
        }
      ]
    },
    {
      "cell_type": "markdown",
      "metadata": {
        "id": "S87t3VvhUcRU",
        "colab_type": "text"
      },
      "source": [
        "Line : Y=a+bX\n",
        "\n",
        "![image.png](data:image/png;base64,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)"
      ]
    },
    {
      "cell_type": "code",
      "metadata": {
        "id": "pON8vrfiUOdk",
        "colab_type": "code",
        "colab": {}
      },
      "source": [
        "# now that we have X, Y, XY, X2, Y2 we need sum of each of them total sum so that we can further calculate coefficients\n",
        "\n",
        "sigmaX = sum(tab['X'])\n",
        "sigmaY = sum(tab['Y'])\n",
        "sigmaXY = sum(tab['XY'])\n",
        "sigmaX2 = sum(tab['X2'])\n",
        "sigmaY2 = sum(tab['Y2'])\n"
      ],
      "execution_count": 36,
      "outputs": []
    },
    {
      "cell_type": "code",
      "metadata": {
        "id": "au0eIXALVaom",
        "colab_type": "code",
        "colab": {
          "base_uri": "https://localhost:8080/",
          "height": 34
        },
        "outputId": "26ffccaf-a106-42cd-8dec-0b20d60e383d"
      },
      "source": [
        "# Find a\n",
        "\n",
        "num_a = (sigmaY*sigmaX2)-(sigmaX*sigmaXY)\n",
        "denom_a = (5*(sigmaX2))-((sigmaX)**2)\n",
        "a = num_a/denom_a\n",
        "print (a)"
      ],
      "execution_count": 37,
      "outputs": [
        {
          "output_type": "stream",
          "text": [
            "-0.09462868017889972\n"
          ],
          "name": "stdout"
        }
      ]
    },
    {
      "cell_type": "code",
      "metadata": {
        "id": "dxOxvlj4WP4P",
        "colab_type": "code",
        "colab": {
          "base_uri": "https://localhost:8080/",
          "height": 34
        },
        "outputId": "31a8e47e-8ae2-422d-fb19-ebcbdd7b3868"
      },
      "source": [
        "# Find b\n",
        "num_b = (5*sigmaXY)-(sigmaX*sigmaY)\n",
        "denom_b = (5*sigmaX2)-(sigmaX**2)\n",
        "b=num_b/denom_b\n",
        "print(b)"
      ],
      "execution_count": 39,
      "outputs": [
        {
          "output_type": "stream",
          "text": [
            "0.15640856726617175\n"
          ],
          "name": "stdout"
        }
      ]
    },
    {
      "cell_type": "markdown",
      "metadata": {
        "id": "YoUyPS7sXRQ7",
        "colab_type": "text"
      },
      "source": [
        "EQUATION OF LINE: y= -0.09462 + 0.15640x"
      ]
    },
    {
      "cell_type": "code",
      "metadata": {
        "id": "vEN9UWO4XI3F",
        "colab_type": "code",
        "colab": {
          "base_uri": "https://localhost:8080/",
          "height": 279
        },
        "outputId": "5e5f8d46-0bc0-4fee-b8ec-4a3355485ac5"
      },
      "source": [
        "# y = a + b*X\n",
        "\n",
        "# PLEASE NOTE THAT y is our preictor and Y is our dataframe for Y values\n",
        "# PLEASE NOTE THAT y is our preictor and Y is our dataframe for Y values\n",
        "# PLEASE NOTE THAT y is our preictor and Y is our dataframe for Y values\n",
        "\n",
        "y= -0.09462 + 0.15640*X\n",
        "plt.plot(X, y, color='#58b970', label='Regression Line')\n",
        "plt.scatter(X,Y,color='#ef5423', label='Scatter Plot')\n",
        "plt.xlabel('Billing amount')\n",
        "plt.ylabel('Tip given')\n",
        "plt.legend()\n",
        "plt.show()"
      ],
      "execution_count": 41,
      "outputs": [
        {
          "output_type": "display_data",
          "data": {
            "image/png": "[encoded data removed]",
            "text/plain": [
              "<Figure size 432x288 with 1 Axes>"
            ]
          },
          "metadata": {
            "tags": [],
            "needs_background": "light"
          }
        }
      ]
    },
    {
      "cell_type": "markdown",
      "metadata": {
        "id": "SLeCX3PCd566",
        "colab_type": "text"
      },
      "source": [
        "## Using Builtin Function"
      ]
    },
    {
      "cell_type": "code",
      "metadata": {
        "id": "tRnuOAyJZcfK",
        "colab_type": "code",
        "colab": {}
      },
      "source": [
        "from sklearn.linear_model import LinearRegression\n",
        "from sklearn.metrics import mean_squared_error\n",
        "X = df['total_bill'].values.reshape(-1,1)\n",
        "# reshaping (5,7) to (35,1) to solve in one dimension\n",
        "reg = LinearRegression()\n",
        "reg =reg.fit(X,y)\n",
        "y_target = reg.predict(X)\n"
      ],
      "execution_count": 42,
      "outputs": []
    },
    {
      "cell_type": "code",
      "metadata": {
        "id": "r04cp0N9cNZB",
        "colab_type": "code",
        "colab": {
          "base_uri": "https://localhost:8080/",
          "height": 306
        },
        "outputId": "10db5843-fafe-4dc5-ca63-b759b76f3f3f"
      },
      "source": [
        "y_target"
      ],
      "execution_count": 43,
      "outputs": [
        {
          "output_type": "execute_result",
          "data": {
            "text/plain": [
              "array([2.562616, 1.522556, 3.191344, 3.608932, 3.751256, 3.860736,\n",
              "       1.277008, 4.109412, 2.257636, 2.216972, 1.511608, 5.420044,\n",
              "       2.317068, 2.787832, 2.224792, 3.280492, 1.520992, 2.453136,\n",
              "       2.559488, 3.13504 , 2.708068, 3.078736, 2.371808, 6.070668,\n",
              "       3.005228, 2.690864, 1.996448, 1.890096, 3.29926 , 2.97864 ,\n",
              "       1.399   , 2.77532 , 2.260764, 3.141296, 2.686172, 3.668364,\n",
              "       2.456264, 2.553232, 2.828496, 4.796008, 2.414036, 2.636124,\n",
              "       2.085596, 1.419332, 4.65994 , 2.765936, 3.382152, 4.97274 ,\n",
              "       4.3706  , 2.726836, 1.866636, 1.514736, 5.349664, 1.459996,\n",
              "       3.902964, 2.953616, 5.850144, 4.035904, 1.663316, 7.454808,\n",
              "       3.078736, 2.065264, 1.628908, 2.765936, 2.656456, 3.045892,\n",
              "       2.47816 , 0.385528, 3.069352, 2.252944, 1.785308, 2.575128,\n",
              "       4.106284, 3.859172, 2.209152, 1.549144, 2.708068, 4.15946 ,\n",
              "       3.465044, 2.609536, 2.945796, 2.511004, 1.480328, 5.016532,\n",
              "       2.404652, 5.352792, 1.943272, 2.764372, 3.770024, 3.214804,\n",
              "       4.436288, 3.422816, 0.80468 , 2.457828, 3.46348 , 6.187968,\n",
              "       4.171972, 1.786872, 3.191344])"
            ]
          },
          "metadata": {
            "tags": []
          },
          "execution_count": 43
        }
      ]
    },
    {
      "cell_type": "code",
      "metadata": {
        "id": "OTudicuhczbX",
        "colab_type": "code",
        "colab": {
          "base_uri": "https://localhost:8080/",
          "height": 279
        },
        "outputId": "b51d4aef-52f0-4173-d245-494d820e15f9"
      },
      "source": [
        "plt.plot(X,y_target,color='#58b970', label='Regression Line')\n",
        "plt.scatter(X,Y,color='#ef5423', label='Scatter Plot')\n",
        "plt.xlabel('Billing amount')\n",
        "plt.ylabel('Tip given')\n",
        "plt.legend()\n",
        "plt.show()"
      ],
      "execution_count": 44,
      "outputs": [
        {
          "output_type": "display_data",
          "data": {
            "image/png": "[encoded data removed]",
            "text/plain": [
              "<Figure size 432x288 with 1 Axes>"
            ]
          },
          "metadata": {
            "tags": [],
            "needs_background": "light"
          }
        }
      ]
    },
    {
      "cell_type": "markdown",
      "metadata": {
        "id": "EecykPrYXxDn",
        "colab_type": "text"
      },
      "source": [
        "END"
      ]
    }
  ]
}