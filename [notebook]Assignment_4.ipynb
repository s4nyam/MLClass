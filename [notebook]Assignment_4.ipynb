{
  "nbformat": 4,
  "nbformat_minor": 0,
  "metadata": {
    "colab": {
      "name": "Assignment 4.ipynb",
      "provenance": [],
      "collapsed_sections": [
        "mrrI1aRYP9hd"
      ]
    },
    "kernelspec": {
      "name": "python3",
      "display_name": "Python 3"
    }
  },
  "cells": [
    {
      "cell_type": "markdown",
      "metadata": {
        "id": "4w4MmJ3h0_UF"
      },
      "source": [
        "Implement a handwritten digit classifier using a neural network. \n",
        "You can use available routines in Scikit-Learn or Tensorflow to program the neural network. \n",
        "\n",
        "Fix an appropriate architecture and experiment with different batch sizes. \n",
        "\n",
        "Generate new training images by flipping the white and black pixels. That means, the foreground which was originally black will now become white and the background which was originally white will now become black. \n",
        "Now prepare batches which have equal number of original and the corresponding flipped images. \n",
        "\n",
        "Plot the training error vs update step for every experiment. "
      ]
    },
    {
      "cell_type": "markdown",
      "metadata": {
        "id": "mrrI1aRYP9hd"
      },
      "source": [
        "# Part 1 - **Neural Network Implementation**"
      ]
    },
    {
      "cell_type": "code",
      "metadata": {
        "id": "QSKMyNCvQHhB"
      },
      "source": [
        "import tensorflow as tf\n",
        "mnist = tf.keras.datasets.mnist # 28*28 images of digits 0-9"
      ],
      "execution_count": 72,
      "outputs": []
    },
    {
      "cell_type": "code",
      "metadata": {
        "id": "le3LFhPxRsaM"
      },
      "source": [
        "(x_train, y_train), (x_test,y_test) = mnist.load_data()\n"
      ],
      "execution_count": 73,
      "outputs": []
    },
    {
      "cell_type": "code",
      "metadata": {
        "id": "5T_EbzPzR9H0",
        "outputId": "afd79479-b9cf-4014-d72f-eca66ccb6af4",
        "colab": {
          "base_uri": "https://localhost:8080/",
          "height": 265
        }
      },
      "source": [
        "# Visualization\n",
        "import matplotlib.pyplot as plt\n",
        "# print(x_train[0])\n",
        "plt.imshow(x_train[0], cmap=plt.cm.binary) # Printing in 2 colors only\n",
        "plt.show()"
      ],
      "execution_count": 74,
      "outputs": [
        {
          "output_type": "display_data",
          "data": {
            "image/png": "[encoded data removed]",
            "text/plain": [
              "<Figure size 432x288 with 1 Axes>"
            ]
          },
          "metadata": {
            "tags": [],
            "needs_background": "light"
          }
        }
      ]
    },
    {
      "cell_type": "code",
      "metadata": {
        "id": "GZ4QgeoLSB68"
      },
      "source": [
        "(x_train, y_train), (x_test,y_test) = mnist.load_data()\n",
        "x_train = tf.keras.utils.normalize(x_train,axis=1)\n",
        "x_test = tf.keras.utils.normalize(x_test,axis=1)\n",
        "# print(x_train[0])\n",
        "plt.imshow(x_train[0], cmap=plt.cm.binary)\n",
        "plt.show()\n",
        "\n",
        "# The image is diminished because we have normalized the datapoints between 0 to 1\n",
        "print(x_train[0]) # Scaled between 0 and 1"
      ],
      "execution_count": null,
      "outputs": []
    },
    {
      "cell_type": "code",
      "metadata": {
        "id": "yXkMB22STd-K",
        "outputId": "c715ad6b-9f69-461f-c4e5-e41c051adf22",
        "colab": {
          "base_uri": "https://localhost:8080/",
          "height": 136
        }
      },
      "source": [
        "# (x_train, y_train), (x_test,y_test) = mnist.load_data()\n",
        "# x_train = tf.keras.utils.normalize(x_train,axis=1)\n",
        "# x_test = tf.keras.utils.normalize(x_train,axis=1)\n",
        "# print(x_train[0])\n",
        "# Build the model\n",
        "model = tf.keras.models.Sequential() # Feed forward model\n",
        "\n",
        "model.add(tf.keras.layers.Flatten()) # used for input layer to flatten it\n",
        "# 128 neurons and activation function to be rectified linear\n",
        "# Layer 1 \n",
        "model.add(tf.keras.layers.Dense(128, activation=tf.nn.relu))\n",
        "# Layer 2 \n",
        "model.add(tf.keras.layers.Dense(128, activation=tf.nn.relu))\n",
        "# Output layer with 10 classifications\n",
        "# Softmax for probablity distribution\n",
        "model.add(tf.keras.layers.Dense(10, activation=tf.nn.softmax))\n",
        "\n",
        "# Training\n",
        "# Use thie crossentropy loss function when there are two or more label classes. \n",
        "# It expect labels to be provided in a one_hot representation. \n",
        "# If you want to provide labels as integers, please use \n",
        "# SparseCategoricalCrossentropy loss. There should be # classes floating point \n",
        "# values per feature.\n",
        "model.compile(optimizer=\"SGD\",loss='sparse_categorical_crossentropy',metrics=['accuracy'])\n",
        "model.fit(x_train, y_train, epochs=3) # Passes\n",
        "# you can’t pass the entire dataset into the neural net at once. \n",
        "# So, you divide dataset into Number of Batches or sets or parts.\n",
        "# Just like you divide a big article into multiple sets/batches/parts like Introduction, \n",
        "# Gradient descent, Epoch, Batch size and Iterations which makes it easy to read the entire\n",
        "# article for the reader and understand it. \n",
        "# For xample: We can divide the dataset of 2000 examples into \n",
        "# batches of 500 then it will take 4 iterations to complete 1 epoch."
      ],
      "execution_count": 76,
      "outputs": [
        {
          "output_type": "stream",
          "text": [
            "Epoch 1/3\n",
            "1875/1875 [==============================] - 3s 2ms/step - loss: 1.0500 - accuracy: 0.7508\n",
            "Epoch 2/3\n",
            "1875/1875 [==============================] - 3s 2ms/step - loss: 0.3875 - accuracy: 0.8911\n",
            "Epoch 3/3\n",
            "1875/1875 [==============================] - 3s 2ms/step - loss: 0.3194 - accuracy: 0.9087\n"
          ],
          "name": "stdout"
        },
        {
          "output_type": "execute_result",
          "data": {
            "text/plain": [
              "<tensorflow.python.keras.callbacks.History at 0x7f3352d386a0>"
            ]
          },
          "metadata": {
            "tags": []
          },
          "execution_count": 76
        }
      ]
    },
    {
      "cell_type": "code",
      "metadata": {
        "id": "iOavVBNQhYX9",
        "outputId": "bbe814ed-5c37-491b-94df-17338f7f2cac",
        "colab": {
          "base_uri": "https://localhost:8080/",
          "height": 34
        }
      },
      "source": [
        "val_loss,val_accuracy=model.evaluate(x_test,y_test)\n",
        "# loss: 0.2888 - accuracy: 0.9165"
      ],
      "execution_count": 77,
      "outputs": [
        {
          "output_type": "stream",
          "text": [
            "313/313 [==============================] - 0s 1ms/step - loss: 0.2907 - accuracy: 0.9173\n"
          ],
          "name": "stdout"
        }
      ]
    },
    {
      "cell_type": "code",
      "metadata": {
        "id": "mrdAs_eFhz_V"
      },
      "source": [
        "# # You can save and load saved models as well using keras.\n",
        "\n",
        "# model.save('new_model')\n",
        "# load_model=tf.keras.models.load_model('new_model')"
      ],
      "execution_count": 78,
      "outputs": []
    },
    {
      "cell_type": "code",
      "metadata": {
        "id": "59AOD8qxkOEx",
        "outputId": "2505ca63-1158-4dec-b3bb-839363479350",
        "colab": {
          "base_uri": "https://localhost:8080/",
          "height": 292
        }
      },
      "source": [
        "Prediction = model.predict([x_test])\n",
        "print(Prediction) # Prints probablity distributions"
      ],
      "execution_count": 79,
      "outputs": [
        {
          "output_type": "stream",
          "text": [
            "WARNING:tensorflow:Layers in a Sequential model should only have a single input tensor, but we receive a <class 'tuple'> input: (<tf.Tensor 'IteratorGetNext:0' shape=(None, 28, 28) dtype=float32>,)\n",
            "Consider rewriting this model with the Functional API.\n",
            "[[9.26815410e-05 3.30120969e-07 1.47278173e-04 ... 9.97121632e-01\n",
            "  3.97331714e-05 1.23026839e-03]\n",
            " [3.06119188e-03 3.60828155e-04 9.75514948e-01 ... 2.57950319e-07\n",
            "  1.45166565e-03 7.08520020e-07]\n",
            " [1.03324180e-06 9.95935082e-01 1.07512157e-03 ... 1.05397754e-04\n",
            "  6.59454439e-04 9.90894841e-05]\n",
            " ...\n",
            " [8.66558139e-07 5.55846345e-05 1.05045219e-04 ... 2.96191801e-03\n",
            "  1.77299406e-03 3.25940289e-02]\n",
            " [8.40275083e-03 2.23577168e-04 8.28779011e-04 ... 5.58179599e-05\n",
            "  2.59913415e-01 4.55410685e-04]\n",
            " [1.29719777e-03 7.49237685e-08 1.58410834e-03 ... 7.32568708e-08\n",
            "  4.37763538e-06 4.75242416e-07]]\n"
          ],
          "name": "stdout"
        }
      ]
    },
    {
      "cell_type": "code",
      "metadata": {
        "id": "7t8dfwRDkY7C",
        "outputId": "830573f3-444a-4c17-c497-ec669700ace2",
        "colab": {
          "base_uri": "https://localhost:8080/",
          "height": 34
        }
      },
      "source": [
        "import numpy as np\n",
        "np.argmax(Prediction[0])"
      ],
      "execution_count": 80,
      "outputs": [
        {
          "output_type": "execute_result",
          "data": {
            "text/plain": [
              "7"
            ]
          },
          "metadata": {
            "tags": []
          },
          "execution_count": 80
        }
      ]
    },
    {
      "cell_type": "code",
      "metadata": {
        "id": "xVoX20aHki68",
        "outputId": "9f906e66-8007-4f2f-9eb6-a435cb75038a",
        "colab": {
          "base_uri": "https://localhost:8080/",
          "height": 282
        }
      },
      "source": [
        "plt.imshow(x_test[0])"
      ],
      "execution_count": 81,
      "outputs": [
        {
          "output_type": "execute_result",
          "data": {
            "text/plain": [
              "<matplotlib.image.AxesImage at 0x7f3347ba4940>"
            ]
          },
          "metadata": {
            "tags": []
          },
          "execution_count": 81
        },
        {
          "output_type": "display_data",
          "data": {
            "image/png": "[encoded data removed]",
            "text/plain": [
              "<Figure size 432x288 with 1 Axes>"
            ]
          },
          "metadata": {
            "tags": [],
            "needs_background": "light"
          }
        }
      ]
    },
    {
      "cell_type": "code",
      "metadata": {
        "id": "Lu0EQnM-kvKT",
        "outputId": "1fb5b4a6-f8bb-4987-9d84-0b7afedb4cb3",
        "colab": {
          "base_uri": "https://localhost:8080/",
          "height": 68
        }
      },
      "source": [
        "Prediction[0]\n",
        "\n",
        "# On checking this array, we get different probablities of the numerics\n",
        "# Probablity of getting 1 -> 5.02\n",
        "# Probablity of getting 2 -> 2.67\n",
        "# .\n",
        "# .\n",
        "# .\n",
        "# Probablity of getting 7 -> 9.98 (which is max)"
      ],
      "execution_count": 82,
      "outputs": [
        {
          "output_type": "execute_result",
          "data": {
            "text/plain": [
              "array([9.2681541e-05, 3.3012097e-07, 1.4727817e-04, 1.3078017e-03,\n",
              "       4.5630327e-06, 5.5649962e-05, 5.3392558e-08, 9.9712163e-01,\n",
              "       3.9733171e-05, 1.2302684e-03], dtype=float32)"
            ]
          },
          "metadata": {
            "tags": []
          },
          "execution_count": 82
        }
      ]
    },
    {
      "cell_type": "code",
      "metadata": {
        "id": "3H1W6hXKlEof"
      },
      "source": [
        "# Lets change batch size!!~!!"
      ],
      "execution_count": 83,
      "outputs": []
    },
    {
      "cell_type": "code",
      "metadata": {
        "id": "3JaHUUfDAaz5"
      },
      "source": [
        ""
      ],
      "execution_count": 83,
      "outputs": []
    },
    {
      "cell_type": "markdown",
      "metadata": {
        "id": "-7rKzzRJRl-B"
      },
      "source": [
        "Batch Size effect on training set"
      ]
    },
    {
      "cell_type": "code",
      "metadata": {
        "id": "plfB3oCAJMhT",
        "outputId": "6637c947-2954-4537-d8cf-2376eca8c599",
        "colab": {
          "base_uri": "https://localhost:8080/",
          "height": 401
        }
      },
      "source": [
        "# Changing batch size = 30 for training \n",
        "# Loss - 0.28395113348960876 Accuracy - 0.9204999804496765\n",
        "(x_train, y_train), (x_test,y_test) = mnist.load_data()\n",
        "x_train = tf.keras.utils.normalize(x_train,axis=1)\n",
        "x_test = tf.keras.utils.normalize(x_test,axis=1)\n",
        "# print(x_train[0])\n",
        "plt.imshow(x_train[0], cmap=plt.cm.binary)\n",
        "plt.show()\n",
        "\n",
        "# The image is diminished because we have normalized the datapoints between 0 to 1\n",
        "# print(x_train[0]) # Scaled between 0 and 1\n",
        "# (x_train, y_train), (x_test,y_test) = mnist.load_data()\n",
        "# x_train = tf.keras.utils.normalize(x_train,axis=1)\n",
        "# x_test = tf.keras.utils.normalize(x_train,axis=1)\n",
        "# print(x_train[0])\n",
        "# Build the model\n",
        "model = tf.keras.models.Sequential() # Feed forward model\n",
        "model.add(tf.keras.layers.Flatten()) # used for input layer to flatten it\n",
        "# 128 neurons and activation function to be rectified linear\n",
        "# Layer 1 \n",
        "model.add(tf.keras.layers.Dense(128, activation=tf.nn.relu))\n",
        "# Layer 2 \n",
        "model.add(tf.keras.layers.Dense(128, activation=tf.nn.relu))\n",
        "# Output layer with 10 classifications\n",
        "# Softmax for probablity distribution\n",
        "model.add(tf.keras.layers.Dense(10, activation=tf.nn.softmax))\n",
        "\n",
        "# Training\n",
        "# Use thie crossentropy loss function when there are two or more label classes. \n",
        "# It expect labels to be provided in a one_hot representation. \n",
        "# If you want to provide labels as integers, please use \n",
        "# SparseCategoricalCrossentropy loss. There should be # classes floating point \n",
        "# values per feature.\n",
        "model.compile(optimizer=\"SGD\",loss='sparse_categorical_crossentropy',metrics=['accuracy'])\n",
        "model.fit(x_train, y_train, batch_size=30, epochs=3) # Passes\n",
        "val_loss_30,val_accuracy_30=model.evaluate(x_test,y_test)\n",
        "print(val_loss_30,val_accuracy_30)"
      ],
      "execution_count": 84,
      "outputs": [
        {
          "output_type": "display_data",
          "data": {
            "image/png": "[encoded data removed]",
            "text/plain": [
              "<Figure size 432x288 with 1 Axes>"
            ]
          },
          "metadata": {
            "tags": [],
            "needs_background": "light"
          }
        },
        {
          "output_type": "stream",
          "text": [
            "Epoch 1/3\n",
            "2000/2000 [==============================] - 3s 2ms/step - loss: 1.0234 - accuracy: 0.7591\n",
            "Epoch 2/3\n",
            "2000/2000 [==============================] - 3s 2ms/step - loss: 0.3825 - accuracy: 0.8927\n",
            "Epoch 3/3\n",
            "2000/2000 [==============================] - 3s 2ms/step - loss: 0.3135 - accuracy: 0.9101\n",
            "313/313 [==============================] - 0s 1ms/step - loss: 0.2832 - accuracy: 0.9187\n",
            "0.28315308690071106 0.9186999797821045\n"
          ],
          "name": "stdout"
        }
      ]
    },
    {
      "cell_type": "code",
      "metadata": {
        "id": "4MnpVUNLOcUW",
        "outputId": "de8098ba-4ad4-49cc-bb78-1176d69ca0e6",
        "colab": {
          "base_uri": "https://localhost:8080/",
          "height": 401
        }
      },
      "source": [
        "# Changing batch size = 50 for training \n",
        "# Loss - 0.33094361424446106 Accuracy - 0.909500002861023\n",
        "(x_train, y_train), (x_test,y_test) = mnist.load_data()\n",
        "x_train = tf.keras.utils.normalize(x_train,axis=1)\n",
        "x_test = tf.keras.utils.normalize(x_test,axis=1)\n",
        "# print(x_train[0])\n",
        "plt.imshow(x_train[0], cmap=plt.cm.binary)\n",
        "plt.show()\n",
        "\n",
        "# The image is diminished because we have normalized the datapoints between 0 to 1\n",
        "# print(x_train[0]) # Scaled between 0 and 1\n",
        "# (x_train, y_train), (x_test,y_test) = mnist.load_data()\n",
        "# x_train = tf.keras.utils.normalize(x_train,axis=1)\n",
        "# x_test = tf.keras.utils.normalize(x_train,axis=1)\n",
        "# print(x_train[0])\n",
        "# Build the model\n",
        "model = tf.keras.models.Sequential() # Feed forward model\n",
        "model.add(tf.keras.layers.Flatten()) # used for input layer to flatten it\n",
        "# 128 neurons and activation function to be rectified linear\n",
        "# Layer 1 \n",
        "model.add(tf.keras.layers.Dense(128, activation=tf.nn.relu))\n",
        "# Layer 2 \n",
        "model.add(tf.keras.layers.Dense(128, activation=tf.nn.relu))\n",
        "# Output layer with 10 classifications\n",
        "# Softmax for probablity distribution\n",
        "model.add(tf.keras.layers.Dense(10, activation=tf.nn.softmax))\n",
        "\n",
        "# Training\n",
        "# Use thie crossentropy loss function when there are two or more label classes. \n",
        "# It expect labels to be provided in a one_hot representation. \n",
        "# If you want to provide labels as integers, please use \n",
        "# SparseCategoricalCrossentropy loss. There should be # classes floating point \n",
        "# values per feature.\n",
        "model.compile(optimizer=\"SGD\",loss='sparse_categorical_crossentropy',metrics=['accuracy'])\n",
        "model.fit(x_train, y_train, batch_size=50, epochs=3) # Passes\n",
        "val_loss_50,val_accuracy_50=model.evaluate(x_test,y_test)\n",
        "print(val_loss_50,val_accuracy_50)"
      ],
      "execution_count": 85,
      "outputs": [
        {
          "output_type": "display_data",
          "data": {
            "image/png": "[encoded data removed]",
            "text/plain": [
              "<Figure size 432x288 with 1 Axes>"
            ]
          },
          "metadata": {
            "tags": [],
            "needs_background": "light"
          }
        },
        {
          "output_type": "stream",
          "text": [
            "Epoch 1/3\n",
            "1200/1200 [==============================] - 3s 2ms/step - loss: 1.4380 - accuracy: 0.6778\n",
            "Epoch 2/3\n",
            "1200/1200 [==============================] - 2s 2ms/step - loss: 0.4883 - accuracy: 0.8701\n",
            "Epoch 3/3\n",
            "1200/1200 [==============================] - 2s 2ms/step - loss: 0.3726 - accuracy: 0.8945\n",
            "313/313 [==============================] - 0s 1ms/step - loss: 0.3321 - accuracy: 0.9078\n",
            "0.3321292996406555 0.907800018787384\n"
          ],
          "name": "stdout"
        }
      ]
    },
    {
      "cell_type": "code",
      "metadata": {
        "id": "3sLfpCfnPFxy",
        "outputId": "828d44ef-0194-4d0f-9969-d569bb5824a4",
        "colab": {
          "base_uri": "https://localhost:8080/",
          "height": 401
        }
      },
      "source": [
        "# Changing batch size = 100 for training \n",
        "# Loss - 0.47130557894706726, Accuracy - 0.8769999742507935\n",
        "(x_train, y_train), (x_test,y_test) = mnist.load_data()\n",
        "x_train = tf.keras.utils.normalize(x_train,axis=1)\n",
        "x_test = tf.keras.utils.normalize(x_test,axis=1)\n",
        "# print(x_train[0])\n",
        "plt.imshow(x_train[0], cmap=plt.cm.binary)\n",
        "plt.show()\n",
        "\n",
        "# The image is diminished because we have normalized the datapoints between 0 to 1\n",
        "# print(x_train[0]) # Scaled between 0 and 1\n",
        "# (x_train, y_train), (x_test,y_test) = mnist.load_data()\n",
        "# x_train = tf.keras.utils.normalize(x_train,axis=1)\n",
        "# x_test = tf.keras.utils.normalize(x_train,axis=1)\n",
        "# print(x_train[0])\n",
        "# Build the model\n",
        "model = tf.keras.models.Sequential() # Feed forward model\n",
        "model.add(tf.keras.layers.Flatten()) # used for input layer to flatten it\n",
        "# 128 neurons and activation function to be rectified linear\n",
        "# Layer 1 \n",
        "model.add(tf.keras.layers.Dense(128, activation=tf.nn.relu))\n",
        "# Layer 2 \n",
        "model.add(tf.keras.layers.Dense(128, activation=tf.nn.relu))\n",
        "# Output layer with 10 classifications\n",
        "# Softmax for probablity distribution\n",
        "model.add(tf.keras.layers.Dense(10, activation=tf.nn.softmax))\n",
        "\n",
        "# Training\n",
        "# Use thie crossentropy loss function when there are two or more label classes. \n",
        "# It expect labels to be provided in a one_hot representation. \n",
        "# If you want to provide labels as integers, please use \n",
        "# SparseCategoricalCrossentropy loss. There should be # classes floating point \n",
        "# values per feature.\n",
        "model.compile(optimizer=\"SGD\",loss='sparse_categorical_crossentropy',metrics=['accuracy'])\n",
        "model.fit(x_train, y_train, batch_size=100, epochs=3) # Passes\n",
        "val_loss_100,val_accuracy_100=model.evaluate(x_test,y_test)\n",
        "print(val_loss_100,val_accuracy_100)"
      ],
      "execution_count": 86,
      "outputs": [
        {
          "output_type": "display_data",
          "data": {
            "image/png": "[encoded data removed]",
            "text/plain": [
              "<Figure size 432x288 with 1 Axes>"
            ]
          },
          "metadata": {
            "tags": [],
            "needs_background": "light"
          }
        },
        {
          "output_type": "stream",
          "text": [
            "Epoch 1/3\n",
            "600/600 [==============================] - 1s 2ms/step - loss: 1.9166 - accuracy: 0.5563\n",
            "Epoch 2/3\n",
            "600/600 [==============================] - 2s 3ms/step - loss: 0.8686 - accuracy: 0.8160\n",
            "Epoch 3/3\n",
            "600/600 [==============================] - 1s 2ms/step - loss: 0.5343 - accuracy: 0.8597\n",
            "313/313 [==============================] - 0s 1ms/step - loss: 0.4556 - accuracy: 0.8836\n",
            "0.455565482378006 0.8835999965667725\n"
          ],
          "name": "stdout"
        }
      ]
    },
    {
      "cell_type": "markdown",
      "metadata": {
        "id": "ah12G_o_QEun"
      },
      "source": [
        "1.  batch size, 30 Loss - 0.28395113348960876 Accuracy - 0.9204999804496765\n",
        "\n",
        "2.  batch size, 50 Loss - 0.33094361424446106 Accuracy - 0.909500002861023\n",
        "\n",
        "3.  batch size, 100 Loss - 0.47130557894706726, Accuracy - 0.8769999742507935\n",
        "\n",
        "As observed, Loss is increasing as we increasing batch size and Accuracy is decreasing\n"
      ]
    },
    {
      "cell_type": "code",
      "metadata": {
        "id": "T0OaHExtPy_C",
        "outputId": "7d6dfc2d-0315-4984-c6c6-cff125984d78",
        "colab": {
          "base_uri": "https://localhost:8080/",
          "height": 401
        }
      },
      "source": [
        "# Lets try for larger batch size now\n",
        "# Changing batch size = 1000 for training \n",
        "# Loss - 2.151988983154297 Accuracy - 0.44769999384880066\n",
        "(x_train, y_train), (x_test,y_test) = mnist.load_data()\n",
        "x_train = tf.keras.utils.normalize(x_train,axis=1)\n",
        "x_test = tf.keras.utils.normalize(x_test,axis=1)\n",
        "# print(x_train[0])\n",
        "plt.imshow(x_train[0], cmap=plt.cm.binary)\n",
        "plt.show()\n",
        "\n",
        "# The image is diminished because we have normalized the datapoints between 0 to 1\n",
        "# print(x_train[0]) # Scaled between 0 and 1\n",
        "# (x_train, y_train), (x_test,y_test) = mnist.load_data()\n",
        "# x_train = tf.keras.utils.normalize(x_train,axis=1)\n",
        "# x_test = tf.keras.utils.normalize(x_train,axis=1)\n",
        "# print(x_train[0])\n",
        "# Build the model\n",
        "model = tf.keras.models.Sequential() # Feed forward model\n",
        "model.add(tf.keras.layers.Flatten()) # used for input layer to flatten it\n",
        "# 128 neurons and activation function to be rectified linear\n",
        "# Layer 1 \n",
        "model.add(tf.keras.layers.Dense(128, activation=tf.nn.relu))\n",
        "# Layer 2 \n",
        "model.add(tf.keras.layers.Dense(128, activation=tf.nn.relu))\n",
        "# Output layer with 10 classifications\n",
        "# Softmax for probablity distribution\n",
        "model.add(tf.keras.layers.Dense(10, activation=tf.nn.softmax))\n",
        "\n",
        "# Training\n",
        "# Use thie crossentropy loss function when there are two or more label classes. \n",
        "# It expect labels to be provided in a one_hot representation. \n",
        "# If you want to provide labels as integers, please use \n",
        "# SparseCategoricalCrossentropy loss. There should be # classes floating point \n",
        "# values per feature.\n",
        "model.compile(optimizer=\"SGD\",loss='sparse_categorical_crossentropy',metrics=['accuracy'])\n",
        "model.fit(x_train, y_train, batch_size=1000, epochs=3) # Passes\n",
        "val_loss_1000,val_accuracy_1000=model.evaluate(x_test,y_test)\n",
        "print(val_loss_1000,val_accuracy_1000)"
      ],
      "execution_count": 87,
      "outputs": [
        {
          "output_type": "display_data",
          "data": {
            "image/png": "[encoded data removed]",
            "text/plain": [
              "<Figure size 432x288 with 1 Axes>"
            ]
          },
          "metadata": {
            "tags": [],
            "needs_background": "light"
          }
        },
        {
          "output_type": "stream",
          "text": [
            "Epoch 1/3\n",
            "60/60 [==============================] - 1s 14ms/step - loss: 2.3071 - accuracy: 0.1242\n",
            "Epoch 2/3\n",
            "60/60 [==============================] - 1s 13ms/step - loss: 2.2628 - accuracy: 0.2435\n",
            "Epoch 3/3\n",
            "60/60 [==============================] - 1s 14ms/step - loss: 2.2148 - accuracy: 0.3171\n",
            "313/313 [==============================] - 0s 1ms/step - loss: 2.1855 - accuracy: 0.3463\n",
            "2.1854629516601562 0.34630000591278076\n"
          ],
          "name": "stdout"
        }
      ]
    },
    {
      "cell_type": "markdown",
      "metadata": {
        "id": "lHWFtFSKRFeT"
      },
      "source": [
        "Hence we can say that as we incrrease the batch size we get poor results.\n",
        "\n",
        "for batch size 1000, Loss - 2.151988983154297 Accuracy - 0.44769999384880066"
      ]
    },
    {
      "cell_type": "markdown",
      "metadata": {
        "id": "8Gut5nxyRqB3"
      },
      "source": [
        "Batch Size effect in test set"
      ]
    },
    {
      "cell_type": "code",
      "metadata": {
        "id": "5-o5t4QQQmMc",
        "outputId": "b8ef6d64-9caa-4ea8-e76f-a9192571209f",
        "colab": {
          "base_uri": "https://localhost:8080/",
          "height": 571
        }
      },
      "source": [
        "# impact the batch_size has when evaluating the model on a test set\n",
        "# it is relevant for training as it determines the number of samples to be fed\n",
        "# to the network before computing the next gradient.\n",
        "# Changing batch size = 30 for training \n",
        "# Loss - 0.28395113348960876 Accuracy - 0.9204999804496765\n",
        "(x_train, y_train), (x_test,y_test) = mnist.load_data()\n",
        "x_train = tf.keras.utils.normalize(x_train,axis=1)\n",
        "x_test = tf.keras.utils.normalize(x_test,axis=1)\n",
        "# print(x_train[0])\n",
        "plt.imshow(x_train[0], cmap=plt.cm.binary)\n",
        "plt.show()\n",
        "\n",
        "# The image is diminished because we have normalized the datapoints between 0 to 1\n",
        "# print(x_train[0]) # Scaled between 0 and 1\n",
        "# (x_train, y_train), (x_test,y_test) = mnist.load_data()\n",
        "# x_train = tf.keras.utils.normalize(x_train,axis=1)\n",
        "# x_test = tf.keras.utils.normalize(x_train,axis=1)\n",
        "# print(x_train[0])\n",
        "# Build the model\n",
        "model = tf.keras.models.Sequential() # Feed forward model\n",
        "model.add(tf.keras.layers.Flatten()) # used for input layer to flatten it\n",
        "# 128 neurons and activation function to be rectified linear\n",
        "# Layer 1 \n",
        "model.add(tf.keras.layers.Dense(128, activation=tf.nn.relu))\n",
        "# Layer 2 \n",
        "model.add(tf.keras.layers.Dense(128, activation=tf.nn.relu))\n",
        "# Output layer with 10 classifications\n",
        "# Softmax for probablity distribution\n",
        "model.add(tf.keras.layers.Dense(10, activation=tf.nn.softmax))\n",
        "\n",
        "# Training\n",
        "# Use thie crossentropy loss function when there are two or more label classes. \n",
        "# It expect labels to be provided in a one_hot representation. \n",
        "# If you want to provide labels as integers, please use \n",
        "# SparseCategoricalCrossentropy loss. There should be # classes floating point \n",
        "# values per feature.\n",
        "model.compile(optimizer=\"SGD\",loss='sparse_categorical_crossentropy',metrics=['accuracy'])\n",
        "model.fit(x_train, y_train, batch_size=30, epochs=3) # Passes\n",
        "val_loss_30,val_accuracy_30=model.evaluate(x_test,y_test)\n",
        "print(val_loss_30,val_accuracy_30)\n",
        "\n",
        "\n",
        "val_loss2,val_accuracy2=model.evaluate(x_test, y_test, batch_size = 10)\n",
        "val_loss3,val_accuracy3=model.evaluate(x_test, y_test, batch_size = 20)\n",
        "val_loss4,val_accuracy4=model.evaluate(x_test, y_test, batch_size = 30)\n",
        "val_loss5,val_accuracy5=model.evaluate(x_test, y_test, batch_size = 40)\n",
        "val_loss6,val_accuracy6=model.evaluate(x_test, y_test, batch_size = 50)\n",
        "print(val_loss2,val_accuracy2)\n",
        "print(val_loss3,val_accuracy3)\n",
        "print(val_loss4,val_accuracy4)\n",
        "print(val_loss5,val_accuracy5)\n",
        "print(val_loss6,val_accuracy6)"
      ],
      "execution_count": 88,
      "outputs": [
        {
          "output_type": "display_data",
          "data": {
            "image/png": "[encoded data removed]",
            "text/plain": [
              "<Figure size 432x288 with 1 Axes>"
            ]
          },
          "metadata": {
            "tags": [],
            "needs_background": "light"
          }
        },
        {
          "output_type": "stream",
          "text": [
            "Epoch 1/3\n",
            "2000/2000 [==============================] - 3s 2ms/step - loss: 1.0097 - accuracy: 0.7777\n",
            "Epoch 2/3\n",
            "2000/2000 [==============================] - 3s 2ms/step - loss: 0.3803 - accuracy: 0.8925\n",
            "Epoch 3/3\n",
            "2000/2000 [==============================] - 3s 2ms/step - loss: 0.3145 - accuracy: 0.9097\n",
            "313/313 [==============================] - 0s 1ms/step - loss: 0.2824 - accuracy: 0.9208\n",
            "0.2823778986930847 0.920799970626831\n",
            "1000/1000 [==============================] - 1s 1ms/step - loss: 0.2824 - accuracy: 0.9208\n",
            "500/500 [==============================] - 1s 1ms/step - loss: 0.2824 - accuracy: 0.9208\n",
            "334/334 [==============================] - 0s 1ms/step - loss: 0.2824 - accuracy: 0.9208\n",
            "250/250 [==============================] - 0s 1ms/step - loss: 0.2824 - accuracy: 0.9208\n",
            "200/200 [==============================] - 0s 2ms/step - loss: 0.2824 - accuracy: 0.9208\n",
            "0.2823779582977295 0.920799970626831\n",
            "0.28237780928611755 0.920799970626831\n",
            "0.28237804770469666 0.920799970626831\n",
            "0.2823779284954071 0.920799970626831\n",
            "0.28237786889076233 0.920799970626831\n"
          ],
          "name": "stdout"
        }
      ]
    },
    {
      "cell_type": "markdown",
      "metadata": {
        "id": "H599hxkQTBFH"
      },
      "source": [
        "In testing, loss and accuracy remains same even changing multiple "
      ]
    },
    {
      "cell_type": "code",
      "metadata": {
        "id": "xc_8K54GS1Sd"
      },
      "source": [
        ""
      ],
      "execution_count": 88,
      "outputs": []
    },
    {
      "cell_type": "markdown",
      "metadata": {
        "id": "AKC99Os72OQ2"
      },
      "source": [
        "# Part 2 - New Images by **inverting black and white pixels**"
      ]
    },
    {
      "cell_type": "code",
      "metadata": {
        "id": "sYVkLSPG2iw2",
        "outputId": "9f6c0b0d-aa6f-4037-ae05-1738ef08acf1",
        "colab": {
          "base_uri": "https://localhost:8080/",
          "height": 265
        }
      },
      "source": [
        "# Flipping the colors that is BW to WB\n",
        "# In order to invert the pixels we just have to subtract 255\n",
        "import numpy as np\n",
        "\n",
        "(x_train, y_train), (x_test,y_test) = mnist.load_data()\n",
        "x_train = tf.keras.utils.normalize(x_train,axis=1)\n",
        "x_test = tf.keras.utils.normalize(x_test,axis=1)\n",
        "# print(x_train[0])\n",
        "plt.imshow(x_train[3], cmap=plt.cm.binary)\n",
        "plt.show()\n"
      ],
      "execution_count": 40,
      "outputs": [
        {
          "output_type": "display_data",
          "data": {
            "image/png": "[encoded data removed]",
            "text/plain": [
              "<Figure size 432x288 with 1 Axes>"
            ]
          },
          "metadata": {
            "tags": [],
            "needs_background": "light"
          }
        }
      ]
    },
    {
      "cell_type": "code",
      "metadata": {
        "id": "QFvv4dnBMJVU"
      },
      "source": [
        "\n",
        "# import pandas as pd\n",
        "# import numpy as np\n",
        "# import matplotlib.pyplot as plt\n",
        "# data=pd.read_csv(\"https://raw.githubusercontent.com/sjwhitworth/golearn/master/examples/datasets/mnist_train.csv\")\n",
        "# data.values[:, 1:] = np.abs(data.values[:, 1:] - 255)  # color inversion\n",
        "# x=data.values[-1, 1:]  # plot latest row in the dataset\n",
        "# plt.imshow(x.reshape(28, 28), cmap='gray')\n",
        "# plt.show()"
      ],
      "execution_count": 46,
      "outputs": []
    },
    {
      "cell_type": "code",
      "metadata": {
        "id": "Ok3zEn3XOWXC",
        "outputId": "7b375455-6e77-4421-f9ce-29a01c5b8465",
        "colab": {
          "base_uri": "https://localhost:8080/",
          "height": 265
        }
      },
      "source": [
        "# Displaying the inverted image\n",
        "\n",
        "(x_train, y_train), (x_test,y_test) = mnist.load_data()\n",
        "x_train = tf.keras.utils.normalize(x_train,axis=1)\n",
        "x_test = tf.keras.utils.normalize(x_test,axis=1)\n",
        "# print(x_train[0])\n",
        "x_train_inverted = np.abs(x_train - 255)\n",
        "plt.imshow(x_train_inverted[3], cmap=plt.cm.binary)\n",
        "plt.show()"
      ],
      "execution_count": 55,
      "outputs": [
        {
          "output_type": "display_data",
          "data": {
            "image/png": "[encoded data removed]",
            "text/plain": [
              "<Figure size 432x288 with 1 Axes>"
            ]
          },
          "metadata": {
            "tags": [],
            "needs_background": "light"
          }
        }
      ]
    },
    {
      "cell_type": "code",
      "metadata": {
        "id": "uxUf0GXLPMs-",
        "outputId": "a16e52d5-9d9e-4236-a914-591f17815538",
        "colab": {
          "base_uri": "https://localhost:8080/",
          "height": 282
        }
      },
      "source": [
        "plt.imshow(x_train[60], cmap=plt.cm.binary)\n"
      ],
      "execution_count": 56,
      "outputs": [
        {
          "output_type": "execute_result",
          "data": {
            "text/plain": [
              "<matplotlib.image.AxesImage at 0x7f33479b9ba8>"
            ]
          },
          "metadata": {
            "tags": []
          },
          "execution_count": 56
        },
        {
          "output_type": "display_data",
          "data": {
            "image/png": "[encoded data removed]",
            "text/plain": [
              "<Figure size 432x288 with 1 Axes>"
            ]
          },
          "metadata": {
            "tags": [],
            "needs_background": "light"
          }
        }
      ]
    },
    {
      "cell_type": "code",
      "metadata": {
        "id": "wSL48MhxSXZn",
        "outputId": "70c1bcab-7bff-4e3e-cf76-6ac75d6ffe66",
        "colab": {
          "base_uri": "https://localhost:8080/",
          "height": 282
        }
      },
      "source": [
        "plt.imshow(x_train_inverted[60], cmap=plt.cm.binary)\n"
      ],
      "execution_count": 57,
      "outputs": [
        {
          "output_type": "execute_result",
          "data": {
            "text/plain": [
              "<matplotlib.image.AxesImage at 0x7f3347ae6c88>"
            ]
          },
          "metadata": {
            "tags": []
          },
          "execution_count": 57
        },
        {
          "output_type": "display_data",
          "data": {
            "image/png": "[encoded data removed]",
            "text/plain": [
              "<Figure size 432x288 with 1 Axes>"
            ]
          },
          "metadata": {
            "tags": [],
            "needs_background": "light"
          }
        }
      ]
    },
    {
      "cell_type": "code",
      "metadata": {
        "id": "z3wzObtASaCi"
      },
      "source": [
        "# Since underlying number of the image remains same, we do not require to change the y labels."
      ],
      "execution_count": 58,
      "outputs": []
    },
    {
      "cell_type": "code",
      "metadata": {
        "id": "L6YvQle3SxWP",
        "outputId": "f0b3229f-38e8-43f8-9188-5ac4891ee87c",
        "colab": {
          "base_uri": "https://localhost:8080/",
          "height": 153
        }
      },
      "source": [
        "# Performing the training\n",
        "\n",
        "# Build the model\n",
        "model = tf.keras.models.Sequential() # Feed forward model\n",
        "\n",
        "model.add(tf.keras.layers.Flatten()) # used for input layer to flatten it\n",
        "# 128 neurons and activation function to be rectified linear\n",
        "# Layer 1 \n",
        "model.add(tf.keras.layers.Dense(128, activation=tf.nn.relu))\n",
        "# Layer 2 \n",
        "model.add(tf.keras.layers.Dense(128, activation=tf.nn.relu))\n",
        "# Output layer with 10 classifications\n",
        "# Softmax for probablity distribution\n",
        "model.add(tf.keras.layers.Dense(10, activation=tf.nn.softmax))\n",
        "\n",
        "# Training\n",
        "# Use thie crossentropy loss function when there are two or more label classes. \n",
        "# It expect labels to be provided in a one_hot representation. \n",
        "# If you want to provide labels as integers, please use \n",
        "# SparseCategoricalCrossentropy loss. There should be # classes floating point \n",
        "# values per feature.\n",
        "model.compile(optimizer=\"SGD\",loss='sparse_categorical_crossentropy',metrics=['accuracy'])\n",
        "model.fit(x_train_inverted, y_train, epochs=3) # Passes\n",
        "# you can’t pass the entire dataset into the neural net at once. \n",
        "# So, you divide dataset into Number of Batches or sets or parts.\n",
        "# Just like you divide a big article into multiple sets/batches/parts like Introduction, \n",
        "# Gradient descent, Epoch, Batch size and Iterations which makes it easy to read the entire\n",
        "# article for the reader and understand it. \n",
        "# For xample: We can divide the dataset of 2000 examples into \n",
        "# batches of 500 then it will take 4 iterations to complete 1 epoch.\n",
        "\n",
        "# Performing the test on inverted training iamges\n",
        "# Testing images are not pixel flipped or inverted.\n",
        "val_loss,val_accuracy=model.evaluate(x_test,y_test) \n",
        "\n",
        "print(val_loss,val_accuracy)"
      ],
      "execution_count": 59,
      "outputs": [
        {
          "output_type": "stream",
          "text": [
            "Epoch 1/3\n",
            "1875/1875 [==============================] - 5s 3ms/step - loss: 1369868.7500 - accuracy: 0.1119\n",
            "Epoch 2/3\n",
            "1875/1875 [==============================] - 4s 2ms/step - loss: 2.3013 - accuracy: 0.1124\n",
            "Epoch 3/3\n",
            "1875/1875 [==============================] - 3s 2ms/step - loss: 2.3013 - accuracy: 0.1124\n",
            "313/313 [==============================] - 0s 1ms/step - loss: 225.1785 - accuracy: 0.0761\n",
            "225.17845153808594 0.07609999924898148\n"
          ],
          "name": "stdout"
        }
      ]
    },
    {
      "cell_type": "code",
      "metadata": {
        "id": "-03_7tjrVkB4"
      },
      "source": [
        "\n",
        "Prediction = model.predict([x_test])\n",
        "print(Prediction) # Prints probablity distributions\n"
      ],
      "execution_count": null,
      "outputs": []
    },
    {
      "cell_type": "code",
      "metadata": {
        "id": "-H5Y78rmWIcO",
        "outputId": "a4e0ed47-d479-4404-84f0-9b8c84aa8576",
        "colab": {
          "base_uri": "https://localhost:8080/",
          "height": 34
        }
      },
      "source": [
        "import numpy as np\n",
        "np.argmax(Prediction[3])"
      ],
      "execution_count": 64,
      "outputs": [
        {
          "output_type": "execute_result",
          "data": {
            "text/plain": [
              "5"
            ]
          },
          "metadata": {
            "tags": []
          },
          "execution_count": 64
        }
      ]
    },
    {
      "cell_type": "markdown",
      "metadata": {
        "id": "_laVasypWYaw"
      },
      "source": [
        "The flipping of images with their colors from B to W or W to b has changed our results drastically. We are getting a large amount of loss as well as negligible accuracy in our model. Loss - 225.17845153808594, Accuracy - 0.07609999924898148"
      ]
    },
    {
      "cell_type": "code",
      "metadata": {
        "id": "ar8L89A-WYFp",
        "outputId": "478bf1a9-e46a-4b49-de95-390e651fb1b3",
        "colab": {
          "base_uri": "https://localhost:8080/",
          "height": 282
        }
      },
      "source": [
        "# Let us flip the pixels of test images as well. \n",
        "plt.imshow(x_test[3], cmap=plt.cm.binary)\n"
      ],
      "execution_count": 65,
      "outputs": [
        {
          "output_type": "execute_result",
          "data": {
            "text/plain": [
              "<matplotlib.image.AxesImage at 0x7f334b687d68>"
            ]
          },
          "metadata": {
            "tags": []
          },
          "execution_count": 65
        },
        {
          "output_type": "display_data",
          "data": {
            "image/png": "[encoded data removed]",
            "text/plain": [
              "<Figure size 432x288 with 1 Axes>"
            ]
          },
          "metadata": {
            "tags": [],
            "needs_background": "light"
          }
        }
      ]
    },
    {
      "cell_type": "code",
      "metadata": {
        "id": "t8s-WdlyWK42",
        "outputId": "3513ac15-7be7-4342-cc33-fb2aaa4316a0",
        "colab": {
          "base_uri": "https://localhost:8080/",
          "height": 282
        }
      },
      "source": [
        "x_test_inverted = np.abs(x_test-255)\n",
        "plt.imshow(x_test_inverted[3], cmap=plt.cm.binary)\n",
        "\n"
      ],
      "execution_count": 66,
      "outputs": [
        {
          "output_type": "execute_result",
          "data": {
            "text/plain": [
              "<matplotlib.image.AxesImage at 0x7f334b6ae3c8>"
            ]
          },
          "metadata": {
            "tags": []
          },
          "execution_count": 66
        },
        {
          "output_type": "display_data",
          "data": {
            "image/png": "[encoded data removed]",
            "text/plain": [
              "<Figure size 432x288 with 1 Axes>"
            ]
          },
          "metadata": {
            "tags": [],
            "needs_background": "light"
          }
        }
      ]
    },
    {
      "cell_type": "code",
      "metadata": {
        "id": "VzWAV8VOX2tx",
        "outputId": "1cb4aeea-5bd8-4bdc-d46a-28a19ca825bb",
        "colab": {
          "base_uri": "https://localhost:8080/",
          "height": 153
        }
      },
      "source": [
        "\n",
        "model = tf.keras.models.Sequential() # Feed forward model\n",
        "\n",
        "model.add(tf.keras.layers.Flatten()) \n",
        "# Layer 1 \n",
        "model.add(tf.keras.layers.Dense(128, activation=tf.nn.relu))\n",
        "# Layer 2 \n",
        "model.add(tf.keras.layers.Dense(128, activation=tf.nn.relu))\n",
        "\n",
        "model.add(tf.keras.layers.Dense(10, activation=tf.nn.softmax))\n",
        "\n",
        "model.compile(optimizer=\"SGD\",loss='sparse_categorical_crossentropy',metrics=['accuracy'])\n",
        "model.fit(x_train_inverted, y_train, batch_size=20, epochs=3) # Passes\n",
        "\n",
        "val_loss,val_accuracy=model.evaluate(x_test_inverted,y_test) \n",
        "\n",
        "print(val_loss,val_accuracy)"
      ],
      "execution_count": 71,
      "outputs": [
        {
          "output_type": "stream",
          "text": [
            "Epoch 1/3\n",
            "3000/3000 [==============================] - 6s 2ms/step - loss: 292.2861 - accuracy: 0.1117\n",
            "Epoch 2/3\n",
            "3000/3000 [==============================] - 5s 2ms/step - loss: 2.3013 - accuracy: 0.1124\n",
            "Epoch 3/3\n",
            "3000/3000 [==============================] - 4s 1ms/step - loss: 2.3013 - accuracy: 0.1124\n",
            "313/313 [==============================] - 0s 1ms/step - loss: 2.3011 - accuracy: 0.1135\n",
            "2.3010590076446533 0.11349999904632568\n"
          ],
          "name": "stdout"
        }
      ]
    },
    {
      "cell_type": "code",
      "metadata": {
        "id": "lL2PsLqhYOUZ",
        "outputId": "6c80db8f-963d-491a-d7e7-94f52d85852d",
        "colab": {
          "base_uri": "https://localhost:8080/",
          "height": 88
        }
      },
      "source": [
        "\n",
        "Prediction = model.predict([x_test_inverted])\n",
        "# print(Prediction) # Prints probablity distributions\n",
        "import numpy as np\n",
        "np.argmax(Prediction[3])"
      ],
      "execution_count": 89,
      "outputs": [
        {
          "output_type": "stream",
          "text": [
            "WARNING:tensorflow:Layers in a Sequential model should only have a single input tensor, but we receive a <class 'tuple'> input: (<tf.Tensor 'IteratorGetNext:0' shape=(None, 28, 28) dtype=float32>,)\n",
            "Consider rewriting this model with the Functional API.\n"
          ],
          "name": "stdout"
        },
        {
          "output_type": "execute_result",
          "data": {
            "text/plain": [
              "2"
            ]
          },
          "metadata": {
            "tags": []
          },
          "execution_count": 89
        }
      ]
    },
    {
      "cell_type": "code",
      "metadata": {
        "id": "2PZWq8iBatGC"
      },
      "source": [
        ""
      ],
      "execution_count": null,
      "outputs": []
    }
  ]
}