{
  "nbformat": 4,
  "nbformat_minor": 0,
  "metadata": {
    "colab": {
      "name": "Assignment 1 (Sanyam Jain P20QC001).ipynb",
      "provenance": [],
      "collapsed_sections": []
    },
    "kernelspec": {
      "name": "python3",
      "display_name": "Python 3"
    }
  },
  "cells": [
    {
      "cell_type": "code",
      "metadata": {
        "id": "9OAUR-3YI7JQ",
        "colab_type": "code",
        "colab": {}
      },
      "source": [
        "# You are expected to familiarize yourself with the most useful packages in Python. \n",
        "# Pandas library offers a set of power datastructures and supported operations to manipulate data. \n",
        "# You should use Google Colaboratory (https://colab.research.google.com/notebooks/intro.ipynb) for executing your code. \n",
        "# Familiarize yourself with the DataFrame object.  \n",
        "# Explore how to \n",
        "# 1) Use Python lists and dictionaries. How to do slicing of lists using the colon (:) specifications. \n",
        "# 2) Create a DataFrame object from the data loaded from a dataset. \n",
        "# 3) Print various rows and columns of the dataset. \n",
        "# 4) Print a subset of rows and a subset of columns\n",
        "# 5) How to group (aggregate) specific columns that correspond to certain specific values of rows. (use DataFrame.groupby()) "
      ],
      "execution_count": null,
      "outputs": []
    },
    {
      "cell_type": "code",
      "metadata": {
        "id": "3yhZua2tLvWN",
        "colab_type": "code",
        "colab": {}
      },
      "source": [
        "# You are expected to familiarize yourself with the most useful packages in Python. \n",
        "\n",
        "\n",
        "# On searching over internet I came across these 3 most useful packages widely used packages in the domain of Machine Learning and Analytics\n",
        "import pandas as pd #importing pandas package as a \"pd\" variable\n",
        "import numpy as np #importing numpy package as a \"np\" variable\n",
        "import matplotlib.pyplot as plt\n",
        "\n",
        "# Dataset in use - Titanic Database\n",
        "titanic = pd.read_csv('https://raw.githubusercontent.com/mwaskom/seaborn-data/master/titanic.csv') # reads csv file from the URL and importing to titanic DataFrame\n",
        "#titanic.head # printing DataFrame to check if the dataset is still available to the endpoint\n",
        "# Till this step we have imported libraries, imported data from Github repository (Just for the example, Titanic data is imported)\n",
        "titanic"
      ],
      "execution_count": null,
      "outputs": []
    },
    {
      "cell_type": "code",
      "metadata": {
        "id": "WhXKgGn4bECf",
        "colab_type": "code",
        "colab": {}
      },
      "source": [
        "# Familiarizing with DataFrame object\n",
        "# DataFrame is a multi-dimensional data which is similar to a csv file or an excel table, majorly used for exploratory analysis\n",
        "# There are numerous in-built functions available for DataFrame object https://pandas.pydata.org/pandas-docs/stable/reference/api/pandas.DataFrame.html\n",
        "# Some basic functions \n",
        "print(\n",
        "titanic.columns, # Column names of the DataFrame\n",
        "'\\n',\n",
        "'\\n',\n",
        "'\\n',\n",
        "titanic.dtypes, # DataType of the column data\n",
        "'\\n',\n",
        "'\\n',\n",
        "'\\n',\n",
        "titanic.info, # Short description of the DataFrame\n",
        "'\\n',\n",
        "'\\n',\n",
        "'\\n',\n",
        "titanic.size, # Number of elements i.e, rows*columns\n",
        "'\\n',\n",
        "'\\n',\n",
        "'\\n',\n",
        "titanic.shape, # Dimensionality\n",
        "'\\n',\n",
        "'\\n',\n",
        "'\\n',\n",
        "titanic.memory_usage # Bytes of memory used\n",
        ")\n"
      ],
      "execution_count": null,
      "outputs": []
    },
    {
      "cell_type": "markdown",
      "metadata": {
        "id": "TOHqm31ow-cX",
        "colab_type": "text"
      },
      "source": [
        "**Task 1**\n"
      ]
    },
    {
      "cell_type": "code",
      "metadata": {
        "id": "2MGylYVBdvp0",
        "colab_type": "code",
        "colab": {
          "base_uri": "https://localhost:8080/",
          "height": 272
        },
        "outputId": "e792a80c-e79c-4d65-9003-165c7022c79f"
      },
      "source": [
        "# 1) Use Python lists and dictionaries. How to do slicing of lists using the colon (:) specifications. \n",
        "# Difference between list and arrays is that arrays have to declared where as lists are native to python\n",
        "# Dictionaries are key value pairs of information\n",
        "list_columns = titanic.columns.values.tolist() # learned from: https://datatofish.com/convert-pandas-dataframe-to-list/\n",
        "list_columns"
      ],
      "execution_count": 67,
      "outputs": [
        {
          "output_type": "execute_result",
          "data": {
            "text/plain": [
              "['survived',\n",
              " 'pclass',\n",
              " 'sex',\n",
              " 'age',\n",
              " 'sibsp',\n",
              " 'parch',\n",
              " 'fare',\n",
              " 'embarked',\n",
              " 'class',\n",
              " 'who',\n",
              " 'adult_male',\n",
              " 'deck',\n",
              " 'embark_town',\n",
              " 'alive',\n",
              " 'alone']"
            ]
          },
          "metadata": {
            "tags": []
          },
          "execution_count": 67
        }
      ]
    },
    {
      "cell_type": "code",
      "metadata": {
        "id": "3ExLppAnjBFC",
        "colab_type": "code",
        "colab": {
          "base_uri": "https://localhost:8080/",
          "height": 34
        },
        "outputId": "aba13460-837b-46bc-e3a3-e61015226612"
      },
      "source": [
        "# We can make dictionary manually with elements jus to show as:\n",
        "dictionary_manual = {1: 'This',2:'is',3:'Assignment', 4:'First'}\n",
        "dictionary_manual\n",
        "# we can basic operations to access the elements from the dictionary using dictionary_manual[i] or using dot operator and so on."
      ],
      "execution_count": 80,
      "outputs": [
        {
          "output_type": "execute_result",
          "data": {
            "text/plain": [
              "{1: 'This', 2: 'is', 3: 'Assignment', 4: 'First'}"
            ]
          },
          "metadata": {
            "tags": []
          },
          "execution_count": 80
        }
      ]
    },
    {
      "cell_type": "code",
      "metadata": {
        "id": "4YMmO4RphZOb",
        "colab_type": "code",
        "colab": {}
      },
      "source": [
        "# Let us alsoe make a dictionary of top 5 elements of the titanic DataFrame\n",
        "import json\n",
        "head_elements = titanic.head()\n",
        "dictionary = head_elements.to_dict()\n",
        "dictionary\n",
        "\n"
      ],
      "execution_count": null,
      "outputs": []
    },
    {
      "cell_type": "code",
      "metadata": {
        "id": "Xz7swtT-hzQH",
        "colab_type": "code",
        "colab": {
          "base_uri": "https://localhost:8080/",
          "height": 34
        },
        "outputId": "23b34dc5-2261-4fef-b2d0-a6159ec22234"
      },
      "source": [
        "# Elements can also be accessed using slicing (:) the list, How to do slicing of lists using the colon (:) specifications. \n",
        "\n",
        "# using list_columns\n",
        "# list_columns\n",
        "list_columns[3:5] # prints the elements with index 3 and 4"
      ],
      "execution_count": 83,
      "outputs": [
        {
          "output_type": "execute_result",
          "data": {
            "text/plain": [
              "['age', 'sibsp']"
            ]
          },
          "metadata": {
            "tags": []
          },
          "execution_count": 83
        }
      ]
    },
    {
      "cell_type": "markdown",
      "metadata": {
        "id": "iLSBGC4DxDQb",
        "colab_type": "text"
      },
      "source": [
        "**Task 2**"
      ]
    },
    {
      "cell_type": "code",
      "metadata": {
        "id": "_9M9fdR4O3Av",
        "colab_type": "code",
        "colab": {
          "base_uri": "https://localhost:8080/",
          "height": 34
        },
        "outputId": "3f274e9a-9313-4862-9519-9d9f57274ae7"
      },
      "source": [
        "# 2) Create a DataFrame object from the data loaded from a dataset. \n",
        "\n",
        "people = pd.DataFrame(titanic.survived.value_counts()) # Created a DataFrame for survived variable in the dataset and assigned with the sum/count value of each type\n",
        "people_survived = people['survived'][1] # gives the number of people survived\n",
        "people_not_survived = people['survived'][0] # gives the number of people not survived\n",
        "print (\"people_survived = \"+ str(people_survived) + \" and people not survived = \"+str(people_not_survived)) # printing the results"
      ],
      "execution_count": 35,
      "outputs": [
        {
          "output_type": "stream",
          "text": [
            "people_survived = 342 and people not survived = 549\n"
          ],
          "name": "stdout"
        }
      ]
    },
    {
      "cell_type": "markdown",
      "metadata": {
        "id": "7hLB5vO7xJRg",
        "colab_type": "text"
      },
      "source": [
        "**Task 3**"
      ]
    },
    {
      "cell_type": "code",
      "metadata": {
        "id": "ZS-iQrd3ld_3",
        "colab_type": "code",
        "colab": {
          "base_uri": "https://localhost:8080/",
          "height": 340
        },
        "outputId": "d1c8ae07-4da7-48ce-f6fd-397cd2d61d25"
      },
      "source": [
        " # 3) Print various rows and columns of the dataset. \n",
        "# Again to simplify we will just print the rows and columns of the top head elements of the dataset\n",
        "# Also there is a problem with pandas that it skips the middle rows and columns of the dataset. in order to print all elements, we can use other operations https://towardsdatascience.com/how-to-show-all-columns-rows-of-a-pandas-dataframe-c49d4507fcf\n",
        "head_elements_top = titanic.head()\n",
        "# head_elements_top['class','fare','who','alive']\n",
        "het = head_elements_top\n",
        "# het\n",
        "print (het[het.columns[1:4]]) # Prints columns ranging from 1 to 3\n",
        "# to print rows we can iterate through each tuple and print it using for loop\n",
        "print('\\n')\n",
        "print('\\n')\n",
        "print('\\n')\n",
        "print('\\n')\n",
        "for i in range(len(het)):\n",
        "  print(het['pclass'][i],het['age'][i],het['fare'][i],het['alive'][i])"
      ],
      "execution_count": 94,
      "outputs": [
        {
          "output_type": "stream",
          "text": [
            "   pclass     sex   age\n",
            "0       3    male  22.0\n",
            "1       1  female  38.0\n",
            "2       3  female  26.0\n",
            "3       1  female  35.0\n",
            "4       3    male  35.0\n",
            "\n",
            "\n",
            "\n",
            "\n",
            "\n",
            "\n",
            "\n",
            "\n",
            "3 22.0 7.25 no\n",
            "1 38.0 71.2833 yes\n",
            "3 26.0 7.925 yes\n",
            "1 35.0 53.1 yes\n",
            "3 35.0 8.05 no\n"
          ],
          "name": "stdout"
        }
      ]
    },
    {
      "cell_type": "markdown",
      "metadata": {
        "id": "mR8c3EoYxL1S",
        "colab_type": "text"
      },
      "source": [
        "**Task 4**"
      ]
    },
    {
      "cell_type": "code",
      "metadata": {
        "id": "M7XHv1kzt2Ow",
        "colab_type": "code",
        "colab": {
          "base_uri": "https://localhost:8080/",
          "height": 111
        },
        "outputId": "c537c1d6-f946-4d23-c6c0-12697d130bfa"
      },
      "source": [
        "# 4) Print a subset of rows and a subset of columns\n",
        "\n",
        "# titanic\n",
        "\n",
        "# het\n",
        "# subset of rows\n",
        "het[1:3] # using slicing operator we can print subset of rows, \n",
        "#we can also print using for loop if pandas skips the middle columns in the print outpur as seen in previous snippet\n",
        "\n"
      ],
      "execution_count": 108,
      "outputs": [
        {
          "output_type": "execute_result",
          "data": {
            "text/html": [
              "<div>\n",
              "<style scoped>\n",
              "    .dataframe tbody tr th:only-of-type {\n",
              "        vertical-align: middle;\n",
              "    }\n",
              "\n",
              "    .dataframe tbody tr th {\n",
              "        vertical-align: top;\n",
              "    }\n",
              "\n",
              "    .dataframe thead th {\n",
              "        text-align: right;\n",
              "    }\n",
              "</style>\n",
              "<table border=\"1\" class=\"dataframe\">\n",
              "  <thead>\n",
              "    <tr style=\"text-align: right;\">\n",
              "      <th></th>\n",
              "      <th>survived</th>\n",
              "      <th>pclass</th>\n",
              "      <th>sex</th>\n",
              "      <th>age</th>\n",
              "      <th>sibsp</th>\n",
              "      <th>parch</th>\n",
              "      <th>fare</th>\n",
              "      <th>embarked</th>\n",
              "      <th>class</th>\n",
              "      <th>who</th>\n",
              "      <th>adult_male</th>\n",
              "      <th>deck</th>\n",
              "      <th>embark_town</th>\n",
              "      <th>alive</th>\n",
              "      <th>alone</th>\n",
              "    </tr>\n",
              "  </thead>\n",
              "  <tbody>\n",
              "    <tr>\n",
              "      <th>1</th>\n",
              "      <td>1</td>\n",
              "      <td>1</td>\n",
              "      <td>female</td>\n",
              "      <td>38.0</td>\n",
              "      <td>1</td>\n",
              "      <td>0</td>\n",
              "      <td>71.2833</td>\n",
              "      <td>C</td>\n",
              "      <td>First</td>\n",
              "      <td>woman</td>\n",
              "      <td>False</td>\n",
              "      <td>C</td>\n",
              "      <td>Cherbourg</td>\n",
              "      <td>yes</td>\n",
              "      <td>False</td>\n",
              "    </tr>\n",
              "    <tr>\n",
              "      <th>2</th>\n",
              "      <td>1</td>\n",
              "      <td>3</td>\n",
              "      <td>female</td>\n",
              "      <td>26.0</td>\n",
              "      <td>0</td>\n",
              "      <td>0</td>\n",
              "      <td>7.9250</td>\n",
              "      <td>S</td>\n",
              "      <td>Third</td>\n",
              "      <td>woman</td>\n",
              "      <td>False</td>\n",
              "      <td>NaN</td>\n",
              "      <td>Southampton</td>\n",
              "      <td>yes</td>\n",
              "      <td>True</td>\n",
              "    </tr>\n",
              "  </tbody>\n",
              "</table>\n",
              "</div>"
            ],
            "text/plain": [
              "   survived  pclass     sex   age  ...  deck  embark_town  alive  alone\n",
              "1         1       1  female  38.0  ...     C    Cherbourg    yes  False\n",
              "2         1       3  female  26.0  ...   NaN  Southampton    yes   True\n",
              "\n",
              "[2 rows x 15 columns]"
            ]
          },
          "metadata": {
            "tags": []
          },
          "execution_count": 108
        }
      ]
    },
    {
      "cell_type": "code",
      "metadata": {
        "id": "ZJIxtgkEvYL6",
        "colab_type": "code",
        "colab": {
          "base_uri": "https://localhost:8080/",
          "height": 204
        },
        "outputId": "6b496c89-836c-4882-ceb3-0e3fb3d9d95b"
      },
      "source": [
        "# subset of columns\n",
        "\n",
        "het[['pclass','age','fare','alive']] # we have used the square brackets twice, it is because, single square bracket gives series and using double, it gives data frame"
      ],
      "execution_count": 111,
      "outputs": [
        {
          "output_type": "execute_result",
          "data": {
            "text/html": [
              "<div>\n",
              "<style scoped>\n",
              "    .dataframe tbody tr th:only-of-type {\n",
              "        vertical-align: middle;\n",
              "    }\n",
              "\n",
              "    .dataframe tbody tr th {\n",
              "        vertical-align: top;\n",
              "    }\n",
              "\n",
              "    .dataframe thead th {\n",
              "        text-align: right;\n",
              "    }\n",
              "</style>\n",
              "<table border=\"1\" class=\"dataframe\">\n",
              "  <thead>\n",
              "    <tr style=\"text-align: right;\">\n",
              "      <th></th>\n",
              "      <th>pclass</th>\n",
              "      <th>age</th>\n",
              "      <th>fare</th>\n",
              "      <th>alive</th>\n",
              "    </tr>\n",
              "  </thead>\n",
              "  <tbody>\n",
              "    <tr>\n",
              "      <th>0</th>\n",
              "      <td>3</td>\n",
              "      <td>22.0</td>\n",
              "      <td>7.2500</td>\n",
              "      <td>no</td>\n",
              "    </tr>\n",
              "    <tr>\n",
              "      <th>1</th>\n",
              "      <td>1</td>\n",
              "      <td>38.0</td>\n",
              "      <td>71.2833</td>\n",
              "      <td>yes</td>\n",
              "    </tr>\n",
              "    <tr>\n",
              "      <th>2</th>\n",
              "      <td>3</td>\n",
              "      <td>26.0</td>\n",
              "      <td>7.9250</td>\n",
              "      <td>yes</td>\n",
              "    </tr>\n",
              "    <tr>\n",
              "      <th>3</th>\n",
              "      <td>1</td>\n",
              "      <td>35.0</td>\n",
              "      <td>53.1000</td>\n",
              "      <td>yes</td>\n",
              "    </tr>\n",
              "    <tr>\n",
              "      <th>4</th>\n",
              "      <td>3</td>\n",
              "      <td>35.0</td>\n",
              "      <td>8.0500</td>\n",
              "      <td>no</td>\n",
              "    </tr>\n",
              "  </tbody>\n",
              "</table>\n",
              "</div>"
            ],
            "text/plain": [
              "   pclass   age     fare alive\n",
              "0       3  22.0   7.2500    no\n",
              "1       1  38.0  71.2833   yes\n",
              "2       3  26.0   7.9250   yes\n",
              "3       1  35.0  53.1000   yes\n",
              "4       3  35.0   8.0500    no"
            ]
          },
          "metadata": {
            "tags": []
          },
          "execution_count": 111
        }
      ]
    },
    {
      "cell_type": "markdown",
      "metadata": {
        "id": "ztPiNqsKxO8Y",
        "colab_type": "text"
      },
      "source": [
        "**Task 5**"
      ]
    },
    {
      "cell_type": "code",
      "metadata": {
        "id": "aHGqss77xSCU",
        "colab_type": "code",
        "colab": {
          "base_uri": "https://localhost:8080/",
          "height": 173
        },
        "outputId": "a69e2057-716b-492f-e779-9ed3b3ceb0ed"
      },
      "source": [
        "# 5) How to group (aggregate) specific columns that correspond to certain specific values of rows. (use DataFrame.groupby()) \n",
        "\n",
        "grouped = titanic.groupby('pclass').count()\n",
        "grouped\n",
        "\n",
        "# grouped by specific column \"pclass\" which is class of the passenger and the related data.\n",
        "\n"
      ],
      "execution_count": 118,
      "outputs": [
        {
          "output_type": "execute_result",
          "data": {
            "text/html": [
              "<div>\n",
              "<style scoped>\n",
              "    .dataframe tbody tr th:only-of-type {\n",
              "        vertical-align: middle;\n",
              "    }\n",
              "\n",
              "    .dataframe tbody tr th {\n",
              "        vertical-align: top;\n",
              "    }\n",
              "\n",
              "    .dataframe thead th {\n",
              "        text-align: right;\n",
              "    }\n",
              "</style>\n",
              "<table border=\"1\" class=\"dataframe\">\n",
              "  <thead>\n",
              "    <tr style=\"text-align: right;\">\n",
              "      <th></th>\n",
              "      <th>survived</th>\n",
              "      <th>sex</th>\n",
              "      <th>age</th>\n",
              "      <th>sibsp</th>\n",
              "      <th>parch</th>\n",
              "      <th>fare</th>\n",
              "      <th>embarked</th>\n",
              "      <th>class</th>\n",
              "      <th>who</th>\n",
              "      <th>adult_male</th>\n",
              "      <th>deck</th>\n",
              "      <th>embark_town</th>\n",
              "      <th>alive</th>\n",
              "      <th>alone</th>\n",
              "    </tr>\n",
              "    <tr>\n",
              "      <th>pclass</th>\n",
              "      <th></th>\n",
              "      <th></th>\n",
              "      <th></th>\n",
              "      <th></th>\n",
              "      <th></th>\n",
              "      <th></th>\n",
              "      <th></th>\n",
              "      <th></th>\n",
              "      <th></th>\n",
              "      <th></th>\n",
              "      <th></th>\n",
              "      <th></th>\n",
              "      <th></th>\n",
              "      <th></th>\n",
              "    </tr>\n",
              "  </thead>\n",
              "  <tbody>\n",
              "    <tr>\n",
              "      <th>1</th>\n",
              "      <td>216</td>\n",
              "      <td>216</td>\n",
              "      <td>186</td>\n",
              "      <td>216</td>\n",
              "      <td>216</td>\n",
              "      <td>216</td>\n",
              "      <td>214</td>\n",
              "      <td>216</td>\n",
              "      <td>216</td>\n",
              "      <td>216</td>\n",
              "      <td>175</td>\n",
              "      <td>214</td>\n",
              "      <td>216</td>\n",
              "      <td>216</td>\n",
              "    </tr>\n",
              "    <tr>\n",
              "      <th>2</th>\n",
              "      <td>184</td>\n",
              "      <td>184</td>\n",
              "      <td>173</td>\n",
              "      <td>184</td>\n",
              "      <td>184</td>\n",
              "      <td>184</td>\n",
              "      <td>184</td>\n",
              "      <td>184</td>\n",
              "      <td>184</td>\n",
              "      <td>184</td>\n",
              "      <td>16</td>\n",
              "      <td>184</td>\n",
              "      <td>184</td>\n",
              "      <td>184</td>\n",
              "    </tr>\n",
              "    <tr>\n",
              "      <th>3</th>\n",
              "      <td>491</td>\n",
              "      <td>491</td>\n",
              "      <td>355</td>\n",
              "      <td>491</td>\n",
              "      <td>491</td>\n",
              "      <td>491</td>\n",
              "      <td>491</td>\n",
              "      <td>491</td>\n",
              "      <td>491</td>\n",
              "      <td>491</td>\n",
              "      <td>12</td>\n",
              "      <td>491</td>\n",
              "      <td>491</td>\n",
              "      <td>491</td>\n",
              "    </tr>\n",
              "  </tbody>\n",
              "</table>\n",
              "</div>"
            ],
            "text/plain": [
              "        survived  sex  age  sibsp  ...  deck  embark_town  alive  alone\n",
              "pclass                             ...                                 \n",
              "1            216  216  186    216  ...   175          214    216    216\n",
              "2            184  184  173    184  ...    16          184    184    184\n",
              "3            491  491  355    491  ...    12          491    491    491\n",
              "\n",
              "[3 rows x 14 columns]"
            ]
          },
          "metadata": {
            "tags": []
          },
          "execution_count": 118
        }
      ]
    },
    {
      "cell_type": "code",
      "metadata": {
        "id": "NIRW4tIt5TdS",
        "colab_type": "code",
        "colab": {
          "base_uri": "https://localhost:8080/",
          "height": 238
        },
        "outputId": "ecf9d839-27d8-4648-ef73-96498b0bba97"
      },
      "source": [
        "grouped = titanic.groupby('age').agg('sum')\n",
        "number_of_survived = grouped['survived']\n",
        "number_of_survived \n",
        "# Prints the total number of person died grouped by age"
      ],
      "execution_count": 119,
      "outputs": [
        {
          "output_type": "execute_result",
          "data": {
            "text/plain": [
              "age\n",
              "0.42     1\n",
              "0.67     1\n",
              "0.75     2\n",
              "0.83     2\n",
              "0.92     1\n",
              "        ..\n",
              "70.00    0\n",
              "70.50    0\n",
              "71.00    0\n",
              "74.00    0\n",
              "80.00    1\n",
              "Name: survived, Length: 88, dtype: int64"
            ]
          },
          "metadata": {
            "tags": []
          },
          "execution_count": 119
        }
      ]
    },
    {
      "cell_type": "code",
      "metadata": {
        "id": "GglgZQyl5dwa",
        "colab_type": "code",
        "colab": {
          "base_uri": "https://localhost:8080/",
          "height": 102
        },
        "outputId": "79e08b60-4df3-4136-c046-881950124fb6"
      },
      "source": [
        "# we can also group by \"pclass\" and get the number of people died per class\n",
        "grouped = titanic.groupby('pclass').agg('sum')\n",
        "number_of_survived = grouped['survived']\n",
        "number_of_survived \n"
      ],
      "execution_count": 120,
      "outputs": [
        {
          "output_type": "execute_result",
          "data": {
            "text/plain": [
              "pclass\n",
              "1    136\n",
              "2     87\n",
              "3    119\n",
              "Name: survived, dtype: int64"
            ]
          },
          "metadata": {
            "tags": []
          },
          "execution_count": 120
        }
      ]
    },
    {
      "cell_type": "code",
      "metadata": {
        "id": "BVFlt_bzP155",
        "colab_type": "code",
        "colab": {}
      },
      "source": [
        "\n",
        "\n",
        "class_one_not_sur =titanic[(titanic['survived']==0) & (titanic['pclass']==1)] # dataframe of class one passengers not survived\n",
        "class_two_not_sur =titanic[(titanic['survived']==0) & (titanic['pclass']==2)] # dataframe of class two passengers not survived\n",
        "class_three_not_sur =titanic[(titanic['survived']==0) & (titanic['pclass']==3)] # dataframe of class three passengers not survived\n"
      ],
      "execution_count": 84,
      "outputs": []
    },
    {
      "cell_type": "code",
      "metadata": {
        "id": "9OToq6QbVvYQ",
        "colab_type": "code",
        "colab": {}
      },
      "source": [
        "class_one_not_sur\n",
        "#Class one passengers that not survived"
      ],
      "execution_count": null,
      "outputs": []
    },
    {
      "cell_type": "code",
      "metadata": {
        "id": "Uf_9tKAKVzUi",
        "colab_type": "code",
        "colab": {}
      },
      "source": [
        "class_two_not_sur\n",
        "#Class two passengers that not survived"
      ],
      "execution_count": null,
      "outputs": []
    },
    {
      "cell_type": "code",
      "metadata": {
        "id": "lqH5NOi0V0RZ",
        "colab_type": "code",
        "colab": {}
      },
      "source": [
        "class_three_not_sur\n",
        "#Class three passengers that not survived"
      ],
      "execution_count": null,
      "outputs": []
    },
    {
      "cell_type": "code",
      "metadata": {
        "id": "OLpxywV8V0-m",
        "colab_type": "code",
        "colab": {
          "base_uri": "https://localhost:8080/",
          "height": 34
        },
        "outputId": "68cea849-1a32-480f-db81-925e3ae440e2"
      },
      "source": [
        "print(\"There are \" + str(len(class_one_not_sur)) + \", \"+ str(len(class_two_not_sur))+\", \"+str(len(class_three_not_sur))+ \" number of passengers that did not survive in class 1,2 and 3 respectively\")"
      ],
      "execution_count": 47,
      "outputs": [
        {
          "output_type": "stream",
          "text": [
            "There are 80, 97, 372 number of passengers that did not survive in class 1,2 and 3 respectively\n"
          ],
          "name": "stdout"
        }
      ]
    },
    {
      "cell_type": "code",
      "metadata": {
        "id": "5O18TfClWXED",
        "colab_type": "code",
        "colab": {}
      },
      "source": [
        ""
      ],
      "execution_count": null,
      "outputs": []
    }
  ]
}